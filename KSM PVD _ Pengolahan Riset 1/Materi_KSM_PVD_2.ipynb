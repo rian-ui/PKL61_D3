{
  "nbformat": 4,
  "nbformat_minor": 0,
  "metadata": {
    "colab": {
      "name": "KSM_PVD_2.ipynb",
      "provenance": [],
      "collapsed_sections": [],
      "toc_visible": true
    },
    "kernelspec": {
      "name": "ir",
      "display_name": "R"
    },
    "language_info": {
      "name": "R"
    }
  },
  "cells": [
    {
      "cell_type": "markdown",
      "metadata": {
        "id": "GihbmO4NKbjQ"
      },
      "source": [
        "# **Best Practice Code Using R**\n",
        "Minggu, 31 Oktober 2021 \n",
        "\n",
        "**KSM PVD 2**"
      ]
    },
    {
      "cell_type": "markdown",
      "metadata": {
        "id": "xrSgmE5sKw2i"
      },
      "source": [
        "Sumber acuan materi:\n",
        "\n",
        "1. The tidyverse styleguide: https://style.tidyverse.org/index.html\n",
        "2. R Best Practices: https://blog.quantinsti.com/r-best-practices-r-you-writing-the-r-way/\n",
        "3. Beyond Basic R - Introduction and Best Practices: https://waterdata.usgs.gov/blog/intro-best-practices/\n",
        "4. Best Practices for Writing R Code: https://swcarpentry.github.io/r-novice-inflammation/06-best-practices-R/\n",
        "5. Basic Syntax Markdown: https://www.markdownguide.org/basic-syntax\n"
      ]
    },
    {
      "cell_type": "markdown",
      "metadata": {
        "id": "AQPKsYlfLkRC"
      },
      "source": [
        "##**Manajerial Folder dan File**"
      ]
    },
    {
      "cell_type": "markdown",
      "metadata": {
        "id": "5AnBfp83L_kq"
      },
      "source": [
        "1. Sebuah proyek harus diletakkan dalam satu folder yang sama. Apabila ingin mengakses suatu file tertentu, cukup menggunakan *relative path* saja."
      ]
    },
    {
      "cell_type": "code",
      "metadata": {
        "id": "eM6RaRuSMPpo"
      },
      "source": [
        "## GOOD\n",
        "# data_riset1 <- read.csv(\"Data_Riset/riset1.csv\", header = TRUE)\n",
        "\n",
        "## BAD\n",
        "# data_riset3 <- read.csv(\"D:/FOLDER KULIAH/STIS/SEMESTER 5/PKL/PVD/Data_Riset/riset1.csv\", header = TRUE)"
      ],
      "execution_count": null,
      "outputs": []
    },
    {
      "cell_type": "markdown",
      "metadata": {
        "id": "TUJXVBrtM-2Q"
      },
      "source": [
        "2. Data berupa input, output, dan source code diusahakan diletakkan dalam folder yang berbeda.\n",
        "3. Penamaan file harus sesuai dengan konteks isi di dalammnya, serta menghindari adanya karakter-karakter khusus maupun whitespace."
      ]
    },
    {
      "cell_type": "code",
      "metadata": {
        "id": "Z72I4-qfMy5p"
      },
      "source": [
        "## GOOD\n",
        "# estimasi_luas_lahan.R\n",
        "# visualisasi_tutupan_lahan.R\n",
        "\n",
        "## BAD\n",
        "# estimasi luas lahan.R\n",
        "# estimasi.R\n",
        "# visualisasi.R"
      ],
      "execution_count": null,
      "outputs": []
    },
    {
      "cell_type": "markdown",
      "metadata": {
        "id": "Dy6coDQDOvUP"
      },
      "source": [
        "**Susunan Pengkodean**"
      ]
    },
    {
      "cell_type": "markdown",
      "metadata": {
        "id": "M7uPMZnnO41J"
      },
      "source": [
        "1. Letakkan pemanggilan library() dan hard-coded variabel di bagian awal (atas) source code."
      ]
    },
    {
      "cell_type": "code",
      "metadata": {
        "id": "5ZJUS85_O3Kf"
      },
      "source": [
        "## Instalasi package/module yang dibutuhkan\n",
        "# install.packages(\"xlsx\")\n",
        "# install.packages(\"tidyr\")\n",
        "# install.packages(\"ggplot2\")\n",
        "\n",
        "## Lakukan load library \n",
        "library(readxl)\n",
        "library(tidyr)\n",
        "library(ggplot2)\n",
        "\n",
        "# file_data <- read.excel(\"Data_Riset/riset1.xlsx\", header = TRUE)"
      ],
      "execution_count": 3,
      "outputs": []
    },
    {
      "cell_type": "markdown",
      "metadata": {
        "id": "-_2S_-4IQede"
      },
      "source": [
        "2. Gunakan indentasi  4-8 spasi, sehingga kode tampak rapi dan jelas scopenya."
      ]
    },
    {
      "cell_type": "code",
      "metadata": {
        "id": "GQ3_n6geQ1Vv",
        "colab": {
          "base_uri": "https://localhost:8080/"
        },
        "outputId": "c05ea318-b8a2-41c4-a766-33cca47108f1"
      },
      "source": [
        "tinggi <- 145\n",
        "berat <- 56\n",
        "\n",
        "# GOOD\n",
        "if (tinggi == 145) {\n",
        "    if (berat > 58) {\n",
        "        print(\"Overweight\")\n",
        "      } else {\n",
        "        print(\"Normal\")\n",
        "      }\n",
        "}\n",
        "\n",
        "# BAD\n",
        "if (tinggi == 145) {\n",
        "if (berat > 58) {\n",
        "print(\"Overweight\")\n",
        "} else {\n",
        "print(\"Normal\")\n",
        "}\n",
        "}"
      ],
      "execution_count": null,
      "outputs": [
        {
          "output_type": "stream",
          "name": "stdout",
          "text": [
            "[1] \"Normal\"\n",
            "[1] \"Normal\"\n"
          ]
        }
      ]
    },
    {
      "cell_type": "code",
      "metadata": {
        "id": "dHNop3R_RECN",
        "colab": {
          "base_uri": "https://localhost:8080/",
          "height": 85
        },
        "outputId": "d51e4f1b-00d1-464a-b803-a9843c6161fd"
      },
      "source": [
        "# GOOD\n",
        "addNumber <- function(a, b) {\n",
        "\ta + b\n",
        "}\n",
        "\n",
        "subtractNumber <- function(a, b) {\n",
        "\ta - b\n",
        "}\n",
        "\n",
        "addNumber(2, 3)\n",
        "subtractNumber(2, 3)\n",
        "\n",
        "# BAD\n",
        "addNumber <- function(a, b) {\n",
        "\ta + b\n",
        "}\n",
        "addNumber(2, 3)\n",
        "\n",
        "subtractNumber <- function(a, b) {\n",
        "\ta - b\n",
        "}\n",
        "subtractNumber(2, 3)"
      ],
      "execution_count": null,
      "outputs": [
        {
          "output_type": "display_data",
          "data": {
            "text/plain": [
              "[1] 5"
            ],
            "text/latex": "5",
            "text/markdown": "5",
            "text/html": [
              "5"
            ]
          },
          "metadata": {}
        },
        {
          "output_type": "display_data",
          "data": {
            "text/plain": [
              "[1] -1"
            ],
            "text/latex": "-1",
            "text/markdown": "-1",
            "text/html": [
              "-1"
            ]
          },
          "metadata": {}
        },
        {
          "output_type": "display_data",
          "data": {
            "text/plain": [
              "[1] 5"
            ],
            "text/latex": "5",
            "text/markdown": "5",
            "text/html": [
              "5"
            ]
          },
          "metadata": {}
        },
        {
          "output_type": "display_data",
          "data": {
            "text/plain": [
              "[1] -1"
            ],
            "text/latex": "-1",
            "text/markdown": "-1",
            "text/html": [
              "-1"
            ]
          },
          "metadata": {}
        }
      ]
    },
    {
      "cell_type": "code",
      "metadata": {
        "id": "KCK-PuubRGjs"
      },
      "source": [
        "# GOOD\n",
        "library(dplyr)\n",
        "library(ggplot2)\n",
        "\n",
        "file_input <- \"riset1.csv\"\n",
        "file_output <- \"peta_persebaran_hasil_perkebunan.png\"\n",
        "\n",
        "data_riset1 <- read.csv(file_input)\n",
        "head(data_riset1)\n",
        "\n",
        "# BAD\n",
        "library(dplyr)\n",
        "library(ggplot2)\n",
        "file_input <- \"riset1.csv\"\n",
        "data_riset1 <- read.csv(file_input)\n",
        "head(data_riset1)\n",
        "file_output <- \"peta_persebaran_hasil_perkebunan.png\""
      ],
      "execution_count": null,
      "outputs": []
    },
    {
      "cell_type": "markdown",
      "metadata": {
        "id": "RLnLLUE0R8zy"
      },
      "source": [
        "##**Penulisan Sintaks**"
      ]
    },
    {
      "cell_type": "markdown",
      "metadata": {
        "id": "9IemQor_SLLO"
      },
      "source": [
        "**1. Penamaan Variabel dan Fungsi**\n",
        "\n",
        "a. Nama variabel menggambarkan isi dari variabel atau function dan harus jelas"
      ]
    },
    {
      "cell_type": "code",
      "metadata": {
        "id": "O2HlH1dFSfeL"
      },
      "source": [
        "## Good\n",
        "# day_one\n",
        "\n",
        "## Bad\n",
        "# first_day_of_the_month\n",
        "# fdotm\n",
        "# do"
      ],
      "execution_count": null,
      "outputs": []
    },
    {
      "cell_type": "markdown",
      "metadata": {
        "id": "Vz1tFFYrSl8s"
      },
      "source": [
        "b. Jika memungkinkan, hindari penggunaan nama yang telah dipakai oleh R (reserved word)"
      ]
    },
    {
      "cell_type": "code",
      "metadata": {
        "id": "gOJTfRt1SCCB",
        "colab": {
          "base_uri": "https://localhost:8080/",
          "height": 68
        },
        "outputId": "86e97b9a-9d90-4cae-9258-b0b784744e6e"
      },
      "source": [
        "## GOOD\n",
        "(X <- seq(from = 1, to = 10, length.out = 7))\n",
        "(lst <- c(10, 20))\n",
        "(mean_x <- mean(X))\n",
        "\n",
        "## BAD\n",
        "# c <- c(10, 20)\n",
        "# mean <- mean(x)"
      ],
      "execution_count": null,
      "outputs": [
        {
          "output_type": "display_data",
          "data": {
            "text/plain": [
              "[1]  1.0  2.5  4.0  5.5  7.0  8.5 10.0"
            ],
            "text/latex": "\\begin{enumerate*}\n\\item 1\n\\item 2.5\n\\item 4\n\\item 5.5\n\\item 7\n\\item 8.5\n\\item 10\n\\end{enumerate*}\n",
            "text/markdown": "1. 1\n2. 2.5\n3. 4\n4. 5.5\n5. 7\n6. 8.5\n7. 10\n\n\n",
            "text/html": [
              "<style>\n",
              ".list-inline {list-style: none; margin:0; padding: 0}\n",
              ".list-inline>li {display: inline-block}\n",
              ".list-inline>li:not(:last-child)::after {content: \"\\00b7\"; padding: 0 .5ex}\n",
              "</style>\n",
              "<ol class=list-inline><li>1</li><li>2.5</li><li>4</li><li>5.5</li><li>7</li><li>8.5</li><li>10</li></ol>\n"
            ]
          },
          "metadata": {}
        },
        {
          "output_type": "display_data",
          "data": {
            "text/plain": [
              "[1] 10 20"
            ],
            "text/latex": "\\begin{enumerate*}\n\\item 10\n\\item 20\n\\end{enumerate*}\n",
            "text/markdown": "1. 10\n2. 20\n\n\n",
            "text/html": [
              "<style>\n",
              ".list-inline {list-style: none; margin:0; padding: 0}\n",
              ".list-inline>li {display: inline-block}\n",
              ".list-inline>li:not(:last-child)::after {content: \"\\00b7\"; padding: 0 .5ex}\n",
              "</style>\n",
              "<ol class=list-inline><li>10</li><li>20</li></ol>\n"
            ]
          },
          "metadata": {}
        },
        {
          "output_type": "display_data",
          "data": {
            "text/plain": [
              "[1] 5.5"
            ],
            "text/latex": "5.5",
            "text/markdown": "5.5",
            "text/html": [
              "5.5"
            ]
          },
          "metadata": {}
        }
      ]
    },
    {
      "cell_type": "markdown",
      "metadata": {
        "id": "o6KNED34TS14"
      },
      "source": [
        "c. Konsistensi dalam gaya tulisan"
      ]
    },
    {
      "cell_type": "code",
      "metadata": {
        "id": "0oJQcPttTWpj"
      },
      "source": [
        "# camelCase\n",
        "addNumber <- list(mtcars$mpg, mtcars$disp)\n",
        "fileInput <- \"riset1.csv\"\n",
        "fileOutput <- \"peta_persebaran_hasil_perkebunan.png\"\n",
        "\n",
        "# snake_case\n",
        "add_number <- list(mtcars$mpg, mtcars$disp)\n",
        "file_input <- \"riset1.csv\"\n",
        "file_output <- \"peta_persebaran_hasil_perkebunan.png\""
      ],
      "execution_count": null,
      "outputs": []
    },
    {
      "cell_type": "markdown",
      "metadata": {
        "id": "MqnKDU7JTV33"
      },
      "source": [
        "**2. Penggunaan Spasi**\n",
        "\n",
        "+ Gunakan spasi setelah koma pada saat menulis suatu array (sebelum koma tidak pakai spasi).\n",
        "\n",
        "+ Jangan gunakan spasi didalam dan diluar pada tanda kurung ketika melakukan pemanggilan fungsi\n",
        "\n",
        "+ Gunakan spasi sebelum dan sesudah ( ) ketika menggunakan if, for, dan while."
      ]
    },
    {
      "cell_type": "code",
      "metadata": {
        "id": "5N2QKzO72_aO",
        "colab": {
          "base_uri": "https://localhost:8080/",
          "height": 85
        },
        "outputId": "d3d11cf1-2ef7-4e48-d265-f777d7da175b"
      },
      "source": [
        "x = matrix(c(1,2,3,4,5,6), nrow=2)\n",
        "\n",
        "# GOOD\n",
        "x[, 1]\n",
        "\n",
        "# BAD\n",
        "x[,1]\n",
        "x[ ,1]\n",
        "x[ , 1]"
      ],
      "execution_count": null,
      "outputs": [
        {
          "output_type": "display_data",
          "data": {
            "text/plain": [
              "[1] 1 2"
            ],
            "text/latex": "\\begin{enumerate*}\n\\item 1\n\\item 2\n\\end{enumerate*}\n",
            "text/markdown": "1. 1\n2. 2\n\n\n",
            "text/html": [
              "<style>\n",
              ".list-inline {list-style: none; margin:0; padding: 0}\n",
              ".list-inline>li {display: inline-block}\n",
              ".list-inline>li:not(:last-child)::after {content: \"\\00b7\"; padding: 0 .5ex}\n",
              "</style>\n",
              "<ol class=list-inline><li>1</li><li>2</li></ol>\n"
            ]
          },
          "metadata": {}
        },
        {
          "output_type": "display_data",
          "data": {
            "text/plain": [
              "[1] 1 2"
            ],
            "text/latex": "\\begin{enumerate*}\n\\item 1\n\\item 2\n\\end{enumerate*}\n",
            "text/markdown": "1. 1\n2. 2\n\n\n",
            "text/html": [
              "<style>\n",
              ".list-inline {list-style: none; margin:0; padding: 0}\n",
              ".list-inline>li {display: inline-block}\n",
              ".list-inline>li:not(:last-child)::after {content: \"\\00b7\"; padding: 0 .5ex}\n",
              "</style>\n",
              "<ol class=list-inline><li>1</li><li>2</li></ol>\n"
            ]
          },
          "metadata": {}
        },
        {
          "output_type": "display_data",
          "data": {
            "text/plain": [
              "[1] 1 2"
            ],
            "text/latex": "\\begin{enumerate*}\n\\item 1\n\\item 2\n\\end{enumerate*}\n",
            "text/markdown": "1. 1\n2. 2\n\n\n",
            "text/html": [
              "<style>\n",
              ".list-inline {list-style: none; margin:0; padding: 0}\n",
              ".list-inline>li {display: inline-block}\n",
              ".list-inline>li:not(:last-child)::after {content: \"\\00b7\"; padding: 0 .5ex}\n",
              "</style>\n",
              "<ol class=list-inline><li>1</li><li>2</li></ol>\n"
            ]
          },
          "metadata": {}
        },
        {
          "output_type": "display_data",
          "data": {
            "text/plain": [
              "[1] 1 2"
            ],
            "text/latex": "\\begin{enumerate*}\n\\item 1\n\\item 2\n\\end{enumerate*}\n",
            "text/markdown": "1. 1\n2. 2\n\n\n",
            "text/html": [
              "<style>\n",
              ".list-inline {list-style: none; margin:0; padding: 0}\n",
              ".list-inline>li {display: inline-block}\n",
              ".list-inline>li:not(:last-child)::after {content: \"\\00b7\"; padding: 0 .5ex}\n",
              "</style>\n",
              "<ol class=list-inline><li>1</li><li>2</li></ol>\n"
            ]
          },
          "metadata": {}
        }
      ]
    },
    {
      "cell_type": "code",
      "metadata": {
        "id": "kJZRn2EqR7Qx",
        "colab": {
          "base_uri": "https://localhost:8080/",
          "height": 170
        },
        "outputId": "127d54eb-ecd1-4c22-d19f-bb5184177af5"
      },
      "source": [
        "# GOOD\n",
        "mean(x, na.rm = TRUE)\n",
        "\n",
        "# BAD\n",
        "mean (x, na.rm = TRUE)\n",
        "mean( x, na.rm = TRUE )\n",
        "\n",
        "# GOOD\n",
        "debug <- TRUE\n",
        "\n",
        "if (debug) {\n",
        "    show(x)\n",
        "}\n",
        "\n",
        "# BAD\n",
        "if(debug){\n",
        "    show(x)\n",
        "}\n"
      ],
      "execution_count": null,
      "outputs": [
        {
          "output_type": "display_data",
          "data": {
            "text/plain": [
              "[1] 3.5"
            ],
            "text/latex": "3.5",
            "text/markdown": "3.5",
            "text/html": [
              "3.5"
            ]
          },
          "metadata": {}
        },
        {
          "output_type": "display_data",
          "data": {
            "text/plain": [
              "[1] 3.5"
            ],
            "text/latex": "3.5",
            "text/markdown": "3.5",
            "text/html": [
              "3.5"
            ]
          },
          "metadata": {}
        },
        {
          "output_type": "display_data",
          "data": {
            "text/plain": [
              "[1] 3.5"
            ],
            "text/latex": "3.5",
            "text/markdown": "3.5",
            "text/html": [
              "3.5"
            ]
          },
          "metadata": {}
        },
        {
          "output_type": "stream",
          "name": "stdout",
          "text": [
            "     [,1] [,2] [,3]\n",
            "[1,]    1    3    5\n",
            "[2,]    2    4    6\n",
            "     [,1] [,2] [,3]\n",
            "[1,]    1    3    5\n",
            "[2,]    2    4    6\n"
          ]
        }
      ]
    },
    {
      "cell_type": "markdown",
      "metadata": {
        "id": "w_RJdAR13fsP"
      },
      "source": [
        "+ Gunakan spasi setelah ( ) ketika digunakan pada function"
      ]
    },
    {
      "cell_type": "code",
      "metadata": {
        "id": "_9YGKGS44fRo"
      },
      "source": [
        "# GOOD\n",
        "function(x) {\n",
        "    # kode\n",
        "}\n",
        "addNumber <- function(a,b) {\n",
        "    # kode\n",
        "}\n",
        "\n",
        "# Bad\n",
        "function (x) {\n",
        "    # kode\n",
        "}\n",
        "function(x){\n",
        "    # kode\n",
        "}"
      ],
      "execution_count": null,
      "outputs": []
    },
    {
      "cell_type": "markdown",
      "metadata": {
        "id": "2liAAhCc40AU"
      },
      "source": [
        "+ Infliks operator (==, +, <-, dll) harus dikelilingi oleh spasi."
      ]
    },
    {
      "cell_type": "code",
      "metadata": {
        "id": "fKQxMqCv4-sN",
        "colab": {
          "base_uri": "https://localhost:8080/",
          "height": 68
        },
        "outputId": "bb4b15fa-0deb-4910-e38d-974d41d11099"
      },
      "source": [
        "feet <- 14\n",
        "inches <- 2\n",
        "\n",
        "# GOOD\n",
        "height <- (feet * 12) + inches\n",
        "mean(x, na.rm = TRUE)\n",
        "\n",
        "# BAD\n",
        "height<-feet*12+inches\n",
        "mean(x, na.rm=TRUE)\n",
        "\n",
        "paste(\"Tinggi\", height, \"cm\")"
      ],
      "execution_count": null,
      "outputs": [
        {
          "output_type": "display_data",
          "data": {
            "text/plain": [
              "[1] 3.5"
            ],
            "text/latex": "3.5",
            "text/markdown": "3.5",
            "text/html": [
              "3.5"
            ]
          },
          "metadata": {}
        },
        {
          "output_type": "display_data",
          "data": {
            "text/plain": [
              "[1] 3.5"
            ],
            "text/latex": "3.5",
            "text/markdown": "3.5",
            "text/html": [
              "3.5"
            ]
          },
          "metadata": {}
        },
        {
          "output_type": "display_data",
          "data": {
            "text/plain": [
              "[1] \"Tinggi 170 cm\""
            ],
            "text/latex": "'Tinggi 170 cm'",
            "text/markdown": "'Tinggi 170 cm'",
            "text/html": [
              "'Tinggi 170 cm'"
            ]
          },
          "metadata": {}
        }
      ]
    },
    {
      "cell_type": "markdown",
      "metadata": {
        "id": "ME2WaSee5Q8d"
      },
      "source": [
        "**3.  Penulisan Fungsi**\n",
        "\n",
        "+ Nama argumen hanya ditulis untuk argumen yang opsional."
      ]
    },
    {
      "cell_type": "code",
      "metadata": {
        "id": "JGrqWptq5ZxL"
      },
      "source": [
        "# GOOD\n",
        "mean(1:10, na.rm = TRUE)\n",
        "data_riset1 <- read.csv(\"riset1.csv\", header = TRUE)\n",
        "\n",
        "# BAD\n",
        "mean(x = 1:10, , FALSE)\n",
        "mean(, TRUE, x = c(1:10, NA))\n",
        "# data_riset3 <- read.csv(file = \"riset3.csv\", header = TRUE)"
      ],
      "execution_count": null,
      "outputs": []
    },
    {
      "cell_type": "markdown",
      "metadata": {
        "id": "I6kd2JpJ5xBt"
      },
      "source": [
        "+ Hindari assingment pada pemanggilan fungsi"
      ]
    },
    {
      "cell_type": "code",
      "metadata": {
        "id": "v2gDHBXUG9QU"
      },
      "source": [
        "complicated_function <- function() {\n",
        "                            print(\"hello world\")\n",
        "                        }   \n",
        "\n",
        "# GOOD\n",
        "x <- complicated_function()\n",
        "if (nchar(x) < 10) {\n",
        "    print(\"hello hereafter\")\n",
        "}\n",
        "\n",
        "# BAD\n",
        "if (nchar(x <- complicated_function()) < 20) {\n",
        "    print(\"hello hereafter\")\n",
        "}"
      ],
      "execution_count": null,
      "outputs": []
    },
    {
      "cell_type": "markdown",
      "metadata": {
        "id": "KmhjyA5p55wk"
      },
      "source": [
        "+ Gunakan return( ) hanya ketika ingin mengembalikan nilai ditengah-tengah fungsi."
      ]
    },
    {
      "cell_type": "code",
      "metadata": {
        "id": "gBg4MBVr58uA"
      },
      "source": [
        "# GOOD\n",
        "findAbs <- function(x) {\n",
        "    if (x > 0) {\n",
        "      return(x)\n",
        "    }\n",
        "    x * -1\n",
        "}\n",
        "addNumber <- function(a, b) {\n",
        "\t  a + b\n",
        "}\n",
        "\n",
        "# BAD\n",
        "addNumber <- function(a, b) {\n",
        "\t  return(a + b)\n",
        "}"
      ],
      "execution_count": null,
      "outputs": []
    },
    {
      "cell_type": "markdown",
      "metadata": {
        "id": "C1Xietc47FwR"
      },
      "source": [
        "**4. Control Flow**\n",
        "\n",
        "Penulisan if, harus menggunakan indentasi, tanda \"{\" berada satu baris dengan deklarasi if, dan \"}\" berada pada akhir dan berdiri sendiri (kecuali terdapat else)"
      ]
    },
    {
      "cell_type": "code",
      "metadata": {
        "id": "62gC7dre7ZrG",
        "colab": {
          "base_uri": "https://localhost:8080/",
          "height": 51
        },
        "outputId": "0da2e457-f68b-4701-a331-c75a99ffde95"
      },
      "source": [
        "y <- 0\n",
        "x <- 2\n",
        "\n",
        "# GOOD\n",
        "if (y == 0) {\n",
        "      if (x > 0) {\n",
        "          log(x)\n",
        "      } else {\n",
        "      message(\"x is negative or zero\")\n",
        "      }\n",
        "} else {\n",
        "      y^x\n",
        "}\n",
        "\n",
        "# BAD\n",
        "if (y == 0) \n",
        "{\n",
        "if (x > 0) {\n",
        "\t    log(x)\n",
        "} \n",
        "else {\n",
        "    message(\"x is negative or zero\")\n",
        "}\n",
        "} else {\n",
        "\t    y^x\n",
        "}"
      ],
      "execution_count": null,
      "outputs": [
        {
          "output_type": "display_data",
          "data": {
            "text/plain": [
              "[1] 0.6931472"
            ],
            "text/latex": "0.693147180559945",
            "text/markdown": "0.693147180559945",
            "text/html": [
              "0.693147180559945"
            ]
          },
          "metadata": {}
        },
        {
          "output_type": "display_data",
          "data": {
            "text/plain": [
              "[1] 0.6931472"
            ],
            "text/latex": "0.693147180559945",
            "text/markdown": "0.693147180559945",
            "text/html": [
              "0.693147180559945"
            ]
          },
          "metadata": {}
        }
      ]
    },
    {
      "cell_type": "markdown",
      "metadata": {
        "id": "utMP9rZu72qA"
      },
      "source": [
        "**5. Long Lines**\n",
        "\n",
        "Jika pemanggilan function terlalu panjang, pecah dalam beberapa baris"
      ]
    },
    {
      "cell_type": "code",
      "metadata": {
        "id": "DVQArToW8DW-",
        "colab": {
          "base_uri": "https://localhost:8080/",
          "height": 68
        },
        "outputId": "91a39955-9adb-4731-d978-04533bf77cb4"
      },
      "source": [
        "do_something_very_complicated <- function(something, requires, arguments) {\n",
        "                                      paste(something, requires, arguments)\n",
        "                                  }\n",
        "many <- 100\n",
        "\n",
        "# GOOD\n",
        "do_something_very_complicated(\n",
        "    something = \"that\",\n",
        "    requires = many,\n",
        "    arguments = \"some of which may be long\"\n",
        ")\n",
        "\n",
        "# BAD\n",
        "do_something_very_complicated(something = \"that\", requires = many, arguments = \"some of which may be long\")\n",
        "\n",
        "do_something_very_complicated(\"that\", many, \"some of which may be long\")\n"
      ],
      "execution_count": null,
      "outputs": [
        {
          "output_type": "display_data",
          "data": {
            "text/plain": [
              "[1] \"that 100 some of which may be long\""
            ],
            "text/latex": "'that 100 some of which may be long'",
            "text/markdown": "'that 100 some of which may be long'",
            "text/html": [
              "'that 100 some of which may be long'"
            ]
          },
          "metadata": {}
        },
        {
          "output_type": "display_data",
          "data": {
            "text/plain": [
              "[1] \"that 100 some of which may be long\""
            ],
            "text/latex": "'that 100 some of which may be long'",
            "text/markdown": "'that 100 some of which may be long'",
            "text/html": [
              "'that 100 some of which may be long'"
            ]
          },
          "metadata": {}
        },
        {
          "output_type": "display_data",
          "data": {
            "text/plain": [
              "[1] \"that 100 some of which may be long\""
            ],
            "text/latex": "'that 100 some of which may be long'",
            "text/markdown": "'that 100 some of which may be long'",
            "text/html": [
              "'that 100 some of which may be long'"
            ]
          },
          "metadata": {}
        }
      ]
    },
    {
      "cell_type": "markdown",
      "metadata": {
        "id": "yfcCKgaB8QJF"
      },
      "source": [
        "**6. Assignment**\n",
        "\n",
        "Gunakan <- untuk assignment variabel dan gunakan = untuk assignment nilai parameter pada pemanggilan function."
      ]
    },
    {
      "cell_type": "code",
      "metadata": {
        "id": "09sPpdwa8Wg_"
      },
      "source": [
        "# Good\n",
        "x <- c(1:5)\n",
        "mean_x <- mean(x, na.rm = TRUE)\n",
        "\n",
        "# BAD\n",
        "y = c(1:10)\n",
        "y <- mean(y, na.rm <- TRUE) #error"
      ],
      "execution_count": null,
      "outputs": []
    },
    {
      "cell_type": "markdown",
      "metadata": {
        "id": "iTZHbNLu8Zbj"
      },
      "source": [
        "**7. Komentar**\n",
        "\n",
        "Hindari memberikan komentar pada sesuatu yang sudah jelas. Komentar juga sebaiknya diberikan pada syntax yang jarang dipakai atau sulit dimengerti."
      ]
    },
    {
      "cell_type": "code",
      "metadata": {
        "id": "02Plf-pv8fnU"
      },
      "source": [
        "tinggi <- 167\n",
        "berat <- 70\n",
        "\n",
        "# GOOD\n",
        "\n",
        "# Mengkatagorikan apakah seseorang memilki berat yang normal/overweight\n",
        "if (tinggi < 145) {\n",
        "        if (berat > 58) {\n",
        "            print(\"Overweight\")\n",
        "    } else {\n",
        "    \tprint(\"Normal\")\n",
        "    }\n",
        "}\n",
        "\n",
        "# BAD\n",
        "\n",
        "# Jika tinggi lebih kecil dari 145 cm\n",
        "if (tinggi < 145) {\n",
        "\t      # Jika berat lebih besar dari 58 kg, maka overwight. Jika lebih kecil maka normal.\n",
        "        if (berat > 58) {\n",
        "            print(\"Overweight\")\n",
        "    } else {\n",
        "    \tprint(\"Normal\")\n",
        "    }\n",
        "}"
      ],
      "execution_count": null,
      "outputs": []
    },
    {
      "cell_type": "code",
      "metadata": {
        "colab": {
          "base_uri": "https://localhost:8080/",
          "height": 303
        },
        "id": "P5lf08puzWyn",
        "outputId": "ebf50b10-a09d-465d-ec5c-b65a829339fa"
      },
      "source": [
        "head(data_riset1)"
      ],
      "execution_count": null,
      "outputs": [
        {
          "output_type": "display_data",
          "data": {
            "text/plain": [
              "  RowNumber CustomerId Surname  CreditScore Geography Gender Age Tenure\n",
              "1 1         15634602   Hargrave 619         France    Female 42  2     \n",
              "2 2         15647311   Hill     608         Spain     Female 41  1     \n",
              "3 3         15619304   Onio     502         France    Female 42  8     \n",
              "4 4         15701354   Boni     699         France    Female 39  1     \n",
              "5 5         15737888   Mitchell 850         Spain     Female 43  2     \n",
              "6 6         15574012   Chu      645         Spain     Male   44  8     \n",
              "  Balance   NumOfProducts HasCrCard IsActiveMember EstimatedSalary Exited\n",
              "1      0.00 1             1         1              101348.88       1     \n",
              "2  83807.86 1             0         1              112542.58       0     \n",
              "3 159660.80 3             1         0              113931.57       1     \n",
              "4      0.00 2             0         0               93826.63       0     \n",
              "5 125510.82 1             1         1               79084.10       0     \n",
              "6 113755.78 2             1         0              149756.71       1     "
            ],
            "text/latex": "A data.frame: 6 × 14\n\\begin{tabular}{r|llllllllllllll}\n  & RowNumber & CustomerId & Surname & CreditScore & Geography & Gender & Age & Tenure & Balance & NumOfProducts & HasCrCard & IsActiveMember & EstimatedSalary & Exited\\\\\n  & <int> & <int> & <chr> & <int> & <chr> & <chr> & <int> & <int> & <dbl> & <int> & <int> & <int> & <dbl> & <int>\\\\\n\\hline\n\t1 & 1 & 15634602 & Hargrave & 619 & France & Female & 42 & 2 &      0.00 & 1 & 1 & 1 & 101348.88 & 1\\\\\n\t2 & 2 & 15647311 & Hill     & 608 & Spain  & Female & 41 & 1 &  83807.86 & 1 & 0 & 1 & 112542.58 & 0\\\\\n\t3 & 3 & 15619304 & Onio     & 502 & France & Female & 42 & 8 & 159660.80 & 3 & 1 & 0 & 113931.57 & 1\\\\\n\t4 & 4 & 15701354 & Boni     & 699 & France & Female & 39 & 1 &      0.00 & 2 & 0 & 0 &  93826.63 & 0\\\\\n\t5 & 5 & 15737888 & Mitchell & 850 & Spain  & Female & 43 & 2 & 125510.82 & 1 & 1 & 1 &  79084.10 & 0\\\\\n\t6 & 6 & 15574012 & Chu      & 645 & Spain  & Male   & 44 & 8 & 113755.78 & 2 & 1 & 0 & 149756.71 & 1\\\\\n\\end{tabular}\n",
            "text/markdown": "\nA data.frame: 6 × 14\n\n| <!--/--> | RowNumber &lt;int&gt; | CustomerId &lt;int&gt; | Surname &lt;chr&gt; | CreditScore &lt;int&gt; | Geography &lt;chr&gt; | Gender &lt;chr&gt; | Age &lt;int&gt; | Tenure &lt;int&gt; | Balance &lt;dbl&gt; | NumOfProducts &lt;int&gt; | HasCrCard &lt;int&gt; | IsActiveMember &lt;int&gt; | EstimatedSalary &lt;dbl&gt; | Exited &lt;int&gt; |\n|---|---|---|---|---|---|---|---|---|---|---|---|---|---|---|\n| 1 | 1 | 15634602 | Hargrave | 619 | France | Female | 42 | 2 |      0.00 | 1 | 1 | 1 | 101348.88 | 1 |\n| 2 | 2 | 15647311 | Hill     | 608 | Spain  | Female | 41 | 1 |  83807.86 | 1 | 0 | 1 | 112542.58 | 0 |\n| 3 | 3 | 15619304 | Onio     | 502 | France | Female | 42 | 8 | 159660.80 | 3 | 1 | 0 | 113931.57 | 1 |\n| 4 | 4 | 15701354 | Boni     | 699 | France | Female | 39 | 1 |      0.00 | 2 | 0 | 0 |  93826.63 | 0 |\n| 5 | 5 | 15737888 | Mitchell | 850 | Spain  | Female | 43 | 2 | 125510.82 | 1 | 1 | 1 |  79084.10 | 0 |\n| 6 | 6 | 15574012 | Chu      | 645 | Spain  | Male   | 44 | 8 | 113755.78 | 2 | 1 | 0 | 149756.71 | 1 |\n\n",
            "text/html": [
              "<table class=\"dataframe\">\n",
              "<caption>A data.frame: 6 × 14</caption>\n",
              "<thead>\n",
              "\t<tr><th></th><th scope=col>RowNumber</th><th scope=col>CustomerId</th><th scope=col>Surname</th><th scope=col>CreditScore</th><th scope=col>Geography</th><th scope=col>Gender</th><th scope=col>Age</th><th scope=col>Tenure</th><th scope=col>Balance</th><th scope=col>NumOfProducts</th><th scope=col>HasCrCard</th><th scope=col>IsActiveMember</th><th scope=col>EstimatedSalary</th><th scope=col>Exited</th></tr>\n",
              "\t<tr><th></th><th scope=col>&lt;int&gt;</th><th scope=col>&lt;int&gt;</th><th scope=col>&lt;chr&gt;</th><th scope=col>&lt;int&gt;</th><th scope=col>&lt;chr&gt;</th><th scope=col>&lt;chr&gt;</th><th scope=col>&lt;int&gt;</th><th scope=col>&lt;int&gt;</th><th scope=col>&lt;dbl&gt;</th><th scope=col>&lt;int&gt;</th><th scope=col>&lt;int&gt;</th><th scope=col>&lt;int&gt;</th><th scope=col>&lt;dbl&gt;</th><th scope=col>&lt;int&gt;</th></tr>\n",
              "</thead>\n",
              "<tbody>\n",
              "\t<tr><th scope=row>1</th><td>1</td><td>15634602</td><td>Hargrave</td><td>619</td><td>France</td><td>Female</td><td>42</td><td>2</td><td>     0.00</td><td>1</td><td>1</td><td>1</td><td>101348.88</td><td>1</td></tr>\n",
              "\t<tr><th scope=row>2</th><td>2</td><td>15647311</td><td>Hill    </td><td>608</td><td>Spain </td><td>Female</td><td>41</td><td>1</td><td> 83807.86</td><td>1</td><td>0</td><td>1</td><td>112542.58</td><td>0</td></tr>\n",
              "\t<tr><th scope=row>3</th><td>3</td><td>15619304</td><td>Onio    </td><td>502</td><td>France</td><td>Female</td><td>42</td><td>8</td><td>159660.80</td><td>3</td><td>1</td><td>0</td><td>113931.57</td><td>1</td></tr>\n",
              "\t<tr><th scope=row>4</th><td>4</td><td>15701354</td><td>Boni    </td><td>699</td><td>France</td><td>Female</td><td>39</td><td>1</td><td>     0.00</td><td>2</td><td>0</td><td>0</td><td> 93826.63</td><td>0</td></tr>\n",
              "\t<tr><th scope=row>5</th><td>5</td><td>15737888</td><td>Mitchell</td><td>850</td><td>Spain </td><td>Female</td><td>43</td><td>2</td><td>125510.82</td><td>1</td><td>1</td><td>1</td><td> 79084.10</td><td>0</td></tr>\n",
              "\t<tr><th scope=row>6</th><td>6</td><td>15574012</td><td>Chu     </td><td>645</td><td>Spain </td><td>Male  </td><td>44</td><td>8</td><td>113755.78</td><td>2</td><td>1</td><td>0</td><td>149756.71</td><td>1</td></tr>\n",
              "</tbody>\n",
              "</table>\n"
            ]
          },
          "metadata": {}
        }
      ]
    },
    {
      "cell_type": "markdown",
      "metadata": {
        "id": "4N1f5-r676K4"
      },
      "source": [
        "**8. Pipe Operator**\n",
        "\n",
        "Pipes %>% sering digunakan ketika kita bekerja dengan library dplyr. Pipes ini berguna untuk meletakkan variabel yang berada disebelah kiri pipe menjadi argumen pertama pada fungsi yang ada disebelah kanan."
      ]
    },
    {
      "cell_type": "code",
      "metadata": {
        "id": "EbUBei1X8y-x",
        "colab": {
          "base_uri": "https://localhost:8080/",
          "height": 34
        },
        "outputId": "435dad0c-9698-48d1-acf3-e77802c5eb3e"
      },
      "source": [
        "data_riset1 %>% \n",
        "\t    select(CreditScore, Age) %>%\n",
        "    filter(Age == 70) %>%\n",
        "    max()"
      ],
      "execution_count": null,
      "outputs": [
        {
          "output_type": "display_data",
          "data": {
            "text/plain": [
              "[1] 850"
            ],
            "text/latex": "850",
            "text/markdown": "850",
            "text/html": [
              "850"
            ]
          },
          "metadata": {}
        }
      ]
    },
    {
      "cell_type": "markdown",
      "metadata": {
        "id": "3KrUIyWy85Rp"
      },
      "source": [
        "Perintah di atas ekuivalen dengan:"
      ]
    },
    {
      "cell_type": "code",
      "metadata": {
        "id": "Yloia4pz87oM",
        "colab": {
          "base_uri": "https://localhost:8080/",
          "height": 34
        },
        "outputId": "df9d88d7-8cf7-4196-8d7d-003aa8fb5c57"
      },
      "source": [
        "max(filter(select(data_riset1, c(CreditScore, Age)), Age == 70))"
      ],
      "execution_count": null,
      "outputs": [
        {
          "output_type": "display_data",
          "data": {
            "text/plain": [
              "[1] 850"
            ],
            "text/latex": "850",
            "text/markdown": "850",
            "text/html": [
              "850"
            ]
          },
          "metadata": {}
        }
      ]
    },
    {
      "cell_type": "markdown",
      "metadata": {
        "id": "v0cMibW88_WW"
      },
      "source": [
        "**9. Spasi Pada Pipe Operator**\n",
        "\n",
        "Sebelum pipe harus memiliki spasi dan diikuti oleh baris baru. Baris baru diberikan indentasi."
      ]
    },
    {
      "cell_type": "code",
      "metadata": {
        "id": "MdyODDt59IEr",
        "colab": {
          "base_uri": "https://localhost:8080/",
          "height": 921
        },
        "outputId": "ac6a98c2-4d01-43fa-e2f8-d164ea52bc6b"
      },
      "source": [
        "# GOOD\n",
        "iris %>%\n",
        "        group_by(Species) %>%\n",
        "        summarize_if(is.numeric, mean) %>%\n",
        "    ungroup() %>%\n",
        "    gather(measure, value, -Species) %>%\n",
        "    arrange(value)\n",
        "\n",
        "# BAD\n",
        "iris %>% group_by(Species) %>% summarize_all(mean) %>%\n",
        "ungroup %>% gather(measure, value, -Species) %>%\n",
        "arrange(value)"
      ],
      "execution_count": null,
      "outputs": [
        {
          "output_type": "display_data",
          "data": {
            "text/plain": [
              "   Species    measure      value\n",
              "1  setosa     Petal.Width  0.246\n",
              "2  versicolor Petal.Width  1.326\n",
              "3  setosa     Petal.Length 1.462\n",
              "4  virginica  Petal.Width  2.026\n",
              "5  versicolor Sepal.Width  2.770\n",
              "6  virginica  Sepal.Width  2.974\n",
              "7  setosa     Sepal.Width  3.428\n",
              "8  versicolor Petal.Length 4.260\n",
              "9  setosa     Sepal.Length 5.006\n",
              "10 virginica  Petal.Length 5.552\n",
              "11 versicolor Sepal.Length 5.936\n",
              "12 virginica  Sepal.Length 6.588"
            ],
            "text/latex": "A tibble: 12 × 3\n\\begin{tabular}{lll}\n Species & measure & value\\\\\n <fct> & <chr> & <dbl>\\\\\n\\hline\n\t setosa     & Petal.Width  & 0.246\\\\\n\t versicolor & Petal.Width  & 1.326\\\\\n\t setosa     & Petal.Length & 1.462\\\\\n\t virginica  & Petal.Width  & 2.026\\\\\n\t versicolor & Sepal.Width  & 2.770\\\\\n\t virginica  & Sepal.Width  & 2.974\\\\\n\t setosa     & Sepal.Width  & 3.428\\\\\n\t versicolor & Petal.Length & 4.260\\\\\n\t setosa     & Sepal.Length & 5.006\\\\\n\t virginica  & Petal.Length & 5.552\\\\\n\t versicolor & Sepal.Length & 5.936\\\\\n\t virginica  & Sepal.Length & 6.588\\\\\n\\end{tabular}\n",
            "text/markdown": "\nA tibble: 12 × 3\n\n| Species &lt;fct&gt; | measure &lt;chr&gt; | value &lt;dbl&gt; |\n|---|---|---|\n| setosa     | Petal.Width  | 0.246 |\n| versicolor | Petal.Width  | 1.326 |\n| setosa     | Petal.Length | 1.462 |\n| virginica  | Petal.Width  | 2.026 |\n| versicolor | Sepal.Width  | 2.770 |\n| virginica  | Sepal.Width  | 2.974 |\n| setosa     | Sepal.Width  | 3.428 |\n| versicolor | Petal.Length | 4.260 |\n| setosa     | Sepal.Length | 5.006 |\n| virginica  | Petal.Length | 5.552 |\n| versicolor | Sepal.Length | 5.936 |\n| virginica  | Sepal.Length | 6.588 |\n\n",
            "text/html": [
              "<table class=\"dataframe\">\n",
              "<caption>A tibble: 12 × 3</caption>\n",
              "<thead>\n",
              "\t<tr><th scope=col>Species</th><th scope=col>measure</th><th scope=col>value</th></tr>\n",
              "\t<tr><th scope=col>&lt;fct&gt;</th><th scope=col>&lt;chr&gt;</th><th scope=col>&lt;dbl&gt;</th></tr>\n",
              "</thead>\n",
              "<tbody>\n",
              "\t<tr><td>setosa    </td><td>Petal.Width </td><td>0.246</td></tr>\n",
              "\t<tr><td>versicolor</td><td>Petal.Width </td><td>1.326</td></tr>\n",
              "\t<tr><td>setosa    </td><td>Petal.Length</td><td>1.462</td></tr>\n",
              "\t<tr><td>virginica </td><td>Petal.Width </td><td>2.026</td></tr>\n",
              "\t<tr><td>versicolor</td><td>Sepal.Width </td><td>2.770</td></tr>\n",
              "\t<tr><td>virginica </td><td>Sepal.Width </td><td>2.974</td></tr>\n",
              "\t<tr><td>setosa    </td><td>Sepal.Width </td><td>3.428</td></tr>\n",
              "\t<tr><td>versicolor</td><td>Petal.Length</td><td>4.260</td></tr>\n",
              "\t<tr><td>setosa    </td><td>Sepal.Length</td><td>5.006</td></tr>\n",
              "\t<tr><td>virginica </td><td>Petal.Length</td><td>5.552</td></tr>\n",
              "\t<tr><td>versicolor</td><td>Sepal.Length</td><td>5.936</td></tr>\n",
              "\t<tr><td>virginica </td><td>Sepal.Length</td><td>6.588</td></tr>\n",
              "</tbody>\n",
              "</table>\n"
            ]
          },
          "metadata": {}
        },
        {
          "output_type": "display_data",
          "data": {
            "text/plain": [
              "   Species    measure      value\n",
              "1  setosa     Petal.Width  0.246\n",
              "2  versicolor Petal.Width  1.326\n",
              "3  setosa     Petal.Length 1.462\n",
              "4  virginica  Petal.Width  2.026\n",
              "5  versicolor Sepal.Width  2.770\n",
              "6  virginica  Sepal.Width  2.974\n",
              "7  setosa     Sepal.Width  3.428\n",
              "8  versicolor Petal.Length 4.260\n",
              "9  setosa     Sepal.Length 5.006\n",
              "10 virginica  Petal.Length 5.552\n",
              "11 versicolor Sepal.Length 5.936\n",
              "12 virginica  Sepal.Length 6.588"
            ],
            "text/latex": "A tibble: 12 × 3\n\\begin{tabular}{lll}\n Species & measure & value\\\\\n <fct> & <chr> & <dbl>\\\\\n\\hline\n\t setosa     & Petal.Width  & 0.246\\\\\n\t versicolor & Petal.Width  & 1.326\\\\\n\t setosa     & Petal.Length & 1.462\\\\\n\t virginica  & Petal.Width  & 2.026\\\\\n\t versicolor & Sepal.Width  & 2.770\\\\\n\t virginica  & Sepal.Width  & 2.974\\\\\n\t setosa     & Sepal.Width  & 3.428\\\\\n\t versicolor & Petal.Length & 4.260\\\\\n\t setosa     & Sepal.Length & 5.006\\\\\n\t virginica  & Petal.Length & 5.552\\\\\n\t versicolor & Sepal.Length & 5.936\\\\\n\t virginica  & Sepal.Length & 6.588\\\\\n\\end{tabular}\n",
            "text/markdown": "\nA tibble: 12 × 3\n\n| Species &lt;fct&gt; | measure &lt;chr&gt; | value &lt;dbl&gt; |\n|---|---|---|\n| setosa     | Petal.Width  | 0.246 |\n| versicolor | Petal.Width  | 1.326 |\n| setosa     | Petal.Length | 1.462 |\n| virginica  | Petal.Width  | 2.026 |\n| versicolor | Sepal.Width  | 2.770 |\n| virginica  | Sepal.Width  | 2.974 |\n| setosa     | Sepal.Width  | 3.428 |\n| versicolor | Petal.Length | 4.260 |\n| setosa     | Sepal.Length | 5.006 |\n| virginica  | Petal.Length | 5.552 |\n| versicolor | Sepal.Length | 5.936 |\n| virginica  | Sepal.Length | 6.588 |\n\n",
            "text/html": [
              "<table class=\"dataframe\">\n",
              "<caption>A tibble: 12 × 3</caption>\n",
              "<thead>\n",
              "\t<tr><th scope=col>Species</th><th scope=col>measure</th><th scope=col>value</th></tr>\n",
              "\t<tr><th scope=col>&lt;fct&gt;</th><th scope=col>&lt;chr&gt;</th><th scope=col>&lt;dbl&gt;</th></tr>\n",
              "</thead>\n",
              "<tbody>\n",
              "\t<tr><td>setosa    </td><td>Petal.Width </td><td>0.246</td></tr>\n",
              "\t<tr><td>versicolor</td><td>Petal.Width </td><td>1.326</td></tr>\n",
              "\t<tr><td>setosa    </td><td>Petal.Length</td><td>1.462</td></tr>\n",
              "\t<tr><td>virginica </td><td>Petal.Width </td><td>2.026</td></tr>\n",
              "\t<tr><td>versicolor</td><td>Sepal.Width </td><td>2.770</td></tr>\n",
              "\t<tr><td>virginica </td><td>Sepal.Width </td><td>2.974</td></tr>\n",
              "\t<tr><td>setosa    </td><td>Sepal.Width </td><td>3.428</td></tr>\n",
              "\t<tr><td>versicolor</td><td>Petal.Length</td><td>4.260</td></tr>\n",
              "\t<tr><td>setosa    </td><td>Sepal.Length</td><td>5.006</td></tr>\n",
              "\t<tr><td>virginica </td><td>Petal.Length</td><td>5.552</td></tr>\n",
              "\t<tr><td>versicolor</td><td>Sepal.Length</td><td>5.936</td></tr>\n",
              "\t<tr><td>virginica </td><td>Sepal.Length</td><td>6.588</td></tr>\n",
              "</tbody>\n",
              "</table>\n"
            ]
          },
          "metadata": {}
        }
      ]
    },
    {
      "cell_type": "markdown",
      "metadata": {
        "id": "0l0bL1y79N3I"
      },
      "source": [
        "**10. Long Lines Pada Pipe Operator**"
      ]
    },
    {
      "cell_type": "code",
      "metadata": {
        "id": "ddGILV-K9UVR",
        "colab": {
          "base_uri": "https://localhost:8080/",
          "height": 190
        },
        "outputId": "c0b70ddc-b079-4e09-ac16-aa4d82a6cf44"
      },
      "source": [
        "iris %>%\n",
        "      group_by(Species) %>%\n",
        "      summarise(\n",
        "          Sepal.Length = mean(Sepal.Length),\n",
        "          Sepal.Width = mean(Sepal.Width),\n",
        "          Species = n_distinct(Species)\n",
        "      ) %>%\n",
        "      filter(Sepal.Length > 2.5) "
      ],
      "execution_count": null,
      "outputs": [
        {
          "output_type": "display_data",
          "data": {
            "text/plain": [
              "  Species Sepal.Length Sepal.Width\n",
              "1 1       5.006        3.428      \n",
              "2 1       5.936        2.770      \n",
              "3 1       6.588        2.974      "
            ],
            "text/latex": "A tibble: 3 × 3\n\\begin{tabular}{lll}\n Species & Sepal.Length & Sepal.Width\\\\\n <int> & <dbl> & <dbl>\\\\\n\\hline\n\t 1 & 5.006 & 3.428\\\\\n\t 1 & 5.936 & 2.770\\\\\n\t 1 & 6.588 & 2.974\\\\\n\\end{tabular}\n",
            "text/markdown": "\nA tibble: 3 × 3\n\n| Species &lt;int&gt; | Sepal.Length &lt;dbl&gt; | Sepal.Width &lt;dbl&gt; |\n|---|---|---|\n| 1 | 5.006 | 3.428 |\n| 1 | 5.936 | 2.770 |\n| 1 | 6.588 | 2.974 |\n\n",
            "text/html": [
              "<table class=\"dataframe\">\n",
              "<caption>A tibble: 3 × 3</caption>\n",
              "<thead>\n",
              "\t<tr><th scope=col>Species</th><th scope=col>Sepal.Length</th><th scope=col>Sepal.Width</th></tr>\n",
              "\t<tr><th scope=col>&lt;int&gt;</th><th scope=col>&lt;dbl&gt;</th><th scope=col>&lt;dbl&gt;</th></tr>\n",
              "</thead>\n",
              "<tbody>\n",
              "\t<tr><td>1</td><td>5.006</td><td>3.428</td></tr>\n",
              "\t<tr><td>1</td><td>5.936</td><td>2.770</td></tr>\n",
              "\t<tr><td>1</td><td>6.588</td><td>2.974</td></tr>\n",
              "</tbody>\n",
              "</table>\n"
            ]
          },
          "metadata": {}
        }
      ]
    },
    {
      "cell_type": "markdown",
      "metadata": {
        "id": "lG-W32do9w77"
      },
      "source": [
        "**11. Short Pipes**"
      ]
    },
    {
      "cell_type": "code",
      "metadata": {
        "id": "Yr04MMT_91FF",
        "colab": {
          "base_uri": "https://localhost:8080/",
          "height": 1000
        },
        "outputId": "9230f276-e0fd-4f99-972f-cc32edbbd378"
      },
      "source": [
        "# GOOD\n",
        "iris %>% arrange(Species)\n",
        "\n",
        "iris %>% \n",
        "  arrange(Species)\n",
        "\n",
        "# RECOMMENDED\n",
        "arrange(iris, Species)"
      ],
      "execution_count": null,
      "outputs": [
        {
          "output_type": "display_data",
          "data": {
            "text/plain": [
              "    Sepal.Length Sepal.Width Petal.Length Petal.Width Species  \n",
              "1   5.1          3.5         1.4          0.2         setosa   \n",
              "2   4.9          3.0         1.4          0.2         setosa   \n",
              "3   4.7          3.2         1.3          0.2         setosa   \n",
              "4   4.6          3.1         1.5          0.2         setosa   \n",
              "5   5.0          3.6         1.4          0.2         setosa   \n",
              "6   5.4          3.9         1.7          0.4         setosa   \n",
              "7   4.6          3.4         1.4          0.3         setosa   \n",
              "8   5.0          3.4         1.5          0.2         setosa   \n",
              "9   4.4          2.9         1.4          0.2         setosa   \n",
              "10  4.9          3.1         1.5          0.1         setosa   \n",
              "11  5.4          3.7         1.5          0.2         setosa   \n",
              "12  4.8          3.4         1.6          0.2         setosa   \n",
              "13  4.8          3.0         1.4          0.1         setosa   \n",
              "14  4.3          3.0         1.1          0.1         setosa   \n",
              "15  5.8          4.0         1.2          0.2         setosa   \n",
              "16  5.7          4.4         1.5          0.4         setosa   \n",
              "17  5.4          3.9         1.3          0.4         setosa   \n",
              "18  5.1          3.5         1.4          0.3         setosa   \n",
              "19  5.7          3.8         1.7          0.3         setosa   \n",
              "20  5.1          3.8         1.5          0.3         setosa   \n",
              "21  5.4          3.4         1.7          0.2         setosa   \n",
              "22  5.1          3.7         1.5          0.4         setosa   \n",
              "23  4.6          3.6         1.0          0.2         setosa   \n",
              "24  5.1          3.3         1.7          0.5         setosa   \n",
              "25  4.8          3.4         1.9          0.2         setosa   \n",
              "26  5.0          3.0         1.6          0.2         setosa   \n",
              "27  5.0          3.4         1.6          0.4         setosa   \n",
              "28  5.2          3.5         1.5          0.2         setosa   \n",
              "29  5.2          3.4         1.4          0.2         setosa   \n",
              "30  4.7          3.2         1.6          0.2         setosa   \n",
              "⋮   ⋮            ⋮           ⋮            ⋮           ⋮        \n",
              "121 6.9          3.2         5.7          2.3         virginica\n",
              "122 5.6          2.8         4.9          2.0         virginica\n",
              "123 7.7          2.8         6.7          2.0         virginica\n",
              "124 6.3          2.7         4.9          1.8         virginica\n",
              "125 6.7          3.3         5.7          2.1         virginica\n",
              "126 7.2          3.2         6.0          1.8         virginica\n",
              "127 6.2          2.8         4.8          1.8         virginica\n",
              "128 6.1          3.0         4.9          1.8         virginica\n",
              "129 6.4          2.8         5.6          2.1         virginica\n",
              "130 7.2          3.0         5.8          1.6         virginica\n",
              "131 7.4          2.8         6.1          1.9         virginica\n",
              "132 7.9          3.8         6.4          2.0         virginica\n",
              "133 6.4          2.8         5.6          2.2         virginica\n",
              "134 6.3          2.8         5.1          1.5         virginica\n",
              "135 6.1          2.6         5.6          1.4         virginica\n",
              "136 7.7          3.0         6.1          2.3         virginica\n",
              "137 6.3          3.4         5.6          2.4         virginica\n",
              "138 6.4          3.1         5.5          1.8         virginica\n",
              "139 6.0          3.0         4.8          1.8         virginica\n",
              "140 6.9          3.1         5.4          2.1         virginica\n",
              "141 6.7          3.1         5.6          2.4         virginica\n",
              "142 6.9          3.1         5.1          2.3         virginica\n",
              "143 5.8          2.7         5.1          1.9         virginica\n",
              "144 6.8          3.2         5.9          2.3         virginica\n",
              "145 6.7          3.3         5.7          2.5         virginica\n",
              "146 6.7          3.0         5.2          2.3         virginica\n",
              "147 6.3          2.5         5.0          1.9         virginica\n",
              "148 6.5          3.0         5.2          2.0         virginica\n",
              "149 6.2          3.4         5.4          2.3         virginica\n",
              "150 5.9          3.0         5.1          1.8         virginica"
            ],
            "text/latex": "A data.frame: 150 × 5\n\\begin{tabular}{lllll}\n Sepal.Length & Sepal.Width & Petal.Length & Petal.Width & Species\\\\\n <dbl> & <dbl> & <dbl> & <dbl> & <fct>\\\\\n\\hline\n\t 5.1 & 3.5 & 1.4 & 0.2 & setosa\\\\\n\t 4.9 & 3.0 & 1.4 & 0.2 & setosa\\\\\n\t 4.7 & 3.2 & 1.3 & 0.2 & setosa\\\\\n\t 4.6 & 3.1 & 1.5 & 0.2 & setosa\\\\\n\t 5.0 & 3.6 & 1.4 & 0.2 & setosa\\\\\n\t 5.4 & 3.9 & 1.7 & 0.4 & setosa\\\\\n\t 4.6 & 3.4 & 1.4 & 0.3 & setosa\\\\\n\t 5.0 & 3.4 & 1.5 & 0.2 & setosa\\\\\n\t 4.4 & 2.9 & 1.4 & 0.2 & setosa\\\\\n\t 4.9 & 3.1 & 1.5 & 0.1 & setosa\\\\\n\t 5.4 & 3.7 & 1.5 & 0.2 & setosa\\\\\n\t 4.8 & 3.4 & 1.6 & 0.2 & setosa\\\\\n\t 4.8 & 3.0 & 1.4 & 0.1 & setosa\\\\\n\t 4.3 & 3.0 & 1.1 & 0.1 & setosa\\\\\n\t 5.8 & 4.0 & 1.2 & 0.2 & setosa\\\\\n\t 5.7 & 4.4 & 1.5 & 0.4 & setosa\\\\\n\t 5.4 & 3.9 & 1.3 & 0.4 & setosa\\\\\n\t 5.1 & 3.5 & 1.4 & 0.3 & setosa\\\\\n\t 5.7 & 3.8 & 1.7 & 0.3 & setosa\\\\\n\t 5.1 & 3.8 & 1.5 & 0.3 & setosa\\\\\n\t 5.4 & 3.4 & 1.7 & 0.2 & setosa\\\\\n\t 5.1 & 3.7 & 1.5 & 0.4 & setosa\\\\\n\t 4.6 & 3.6 & 1.0 & 0.2 & setosa\\\\\n\t 5.1 & 3.3 & 1.7 & 0.5 & setosa\\\\\n\t 4.8 & 3.4 & 1.9 & 0.2 & setosa\\\\\n\t 5.0 & 3.0 & 1.6 & 0.2 & setosa\\\\\n\t 5.0 & 3.4 & 1.6 & 0.4 & setosa\\\\\n\t 5.2 & 3.5 & 1.5 & 0.2 & setosa\\\\\n\t 5.2 & 3.4 & 1.4 & 0.2 & setosa\\\\\n\t 4.7 & 3.2 & 1.6 & 0.2 & setosa\\\\\n\t ⋮ & ⋮ & ⋮ & ⋮ & ⋮\\\\\n\t 6.9 & 3.2 & 5.7 & 2.3 & virginica\\\\\n\t 5.6 & 2.8 & 4.9 & 2.0 & virginica\\\\\n\t 7.7 & 2.8 & 6.7 & 2.0 & virginica\\\\\n\t 6.3 & 2.7 & 4.9 & 1.8 & virginica\\\\\n\t 6.7 & 3.3 & 5.7 & 2.1 & virginica\\\\\n\t 7.2 & 3.2 & 6.0 & 1.8 & virginica\\\\\n\t 6.2 & 2.8 & 4.8 & 1.8 & virginica\\\\\n\t 6.1 & 3.0 & 4.9 & 1.8 & virginica\\\\\n\t 6.4 & 2.8 & 5.6 & 2.1 & virginica\\\\\n\t 7.2 & 3.0 & 5.8 & 1.6 & virginica\\\\\n\t 7.4 & 2.8 & 6.1 & 1.9 & virginica\\\\\n\t 7.9 & 3.8 & 6.4 & 2.0 & virginica\\\\\n\t 6.4 & 2.8 & 5.6 & 2.2 & virginica\\\\\n\t 6.3 & 2.8 & 5.1 & 1.5 & virginica\\\\\n\t 6.1 & 2.6 & 5.6 & 1.4 & virginica\\\\\n\t 7.7 & 3.0 & 6.1 & 2.3 & virginica\\\\\n\t 6.3 & 3.4 & 5.6 & 2.4 & virginica\\\\\n\t 6.4 & 3.1 & 5.5 & 1.8 & virginica\\\\\n\t 6.0 & 3.0 & 4.8 & 1.8 & virginica\\\\\n\t 6.9 & 3.1 & 5.4 & 2.1 & virginica\\\\\n\t 6.7 & 3.1 & 5.6 & 2.4 & virginica\\\\\n\t 6.9 & 3.1 & 5.1 & 2.3 & virginica\\\\\n\t 5.8 & 2.7 & 5.1 & 1.9 & virginica\\\\\n\t 6.8 & 3.2 & 5.9 & 2.3 & virginica\\\\\n\t 6.7 & 3.3 & 5.7 & 2.5 & virginica\\\\\n\t 6.7 & 3.0 & 5.2 & 2.3 & virginica\\\\\n\t 6.3 & 2.5 & 5.0 & 1.9 & virginica\\\\\n\t 6.5 & 3.0 & 5.2 & 2.0 & virginica\\\\\n\t 6.2 & 3.4 & 5.4 & 2.3 & virginica\\\\\n\t 5.9 & 3.0 & 5.1 & 1.8 & virginica\\\\\n\\end{tabular}\n",
            "text/markdown": "\nA data.frame: 150 × 5\n\n| Sepal.Length &lt;dbl&gt; | Sepal.Width &lt;dbl&gt; | Petal.Length &lt;dbl&gt; | Petal.Width &lt;dbl&gt; | Species &lt;fct&gt; |\n|---|---|---|---|---|\n| 5.1 | 3.5 | 1.4 | 0.2 | setosa |\n| 4.9 | 3.0 | 1.4 | 0.2 | setosa |\n| 4.7 | 3.2 | 1.3 | 0.2 | setosa |\n| 4.6 | 3.1 | 1.5 | 0.2 | setosa |\n| 5.0 | 3.6 | 1.4 | 0.2 | setosa |\n| 5.4 | 3.9 | 1.7 | 0.4 | setosa |\n| 4.6 | 3.4 | 1.4 | 0.3 | setosa |\n| 5.0 | 3.4 | 1.5 | 0.2 | setosa |\n| 4.4 | 2.9 | 1.4 | 0.2 | setosa |\n| 4.9 | 3.1 | 1.5 | 0.1 | setosa |\n| 5.4 | 3.7 | 1.5 | 0.2 | setosa |\n| 4.8 | 3.4 | 1.6 | 0.2 | setosa |\n| 4.8 | 3.0 | 1.4 | 0.1 | setosa |\n| 4.3 | 3.0 | 1.1 | 0.1 | setosa |\n| 5.8 | 4.0 | 1.2 | 0.2 | setosa |\n| 5.7 | 4.4 | 1.5 | 0.4 | setosa |\n| 5.4 | 3.9 | 1.3 | 0.4 | setosa |\n| 5.1 | 3.5 | 1.4 | 0.3 | setosa |\n| 5.7 | 3.8 | 1.7 | 0.3 | setosa |\n| 5.1 | 3.8 | 1.5 | 0.3 | setosa |\n| 5.4 | 3.4 | 1.7 | 0.2 | setosa |\n| 5.1 | 3.7 | 1.5 | 0.4 | setosa |\n| 4.6 | 3.6 | 1.0 | 0.2 | setosa |\n| 5.1 | 3.3 | 1.7 | 0.5 | setosa |\n| 4.8 | 3.4 | 1.9 | 0.2 | setosa |\n| 5.0 | 3.0 | 1.6 | 0.2 | setosa |\n| 5.0 | 3.4 | 1.6 | 0.4 | setosa |\n| 5.2 | 3.5 | 1.5 | 0.2 | setosa |\n| 5.2 | 3.4 | 1.4 | 0.2 | setosa |\n| 4.7 | 3.2 | 1.6 | 0.2 | setosa |\n| ⋮ | ⋮ | ⋮ | ⋮ | ⋮ |\n| 6.9 | 3.2 | 5.7 | 2.3 | virginica |\n| 5.6 | 2.8 | 4.9 | 2.0 | virginica |\n| 7.7 | 2.8 | 6.7 | 2.0 | virginica |\n| 6.3 | 2.7 | 4.9 | 1.8 | virginica |\n| 6.7 | 3.3 | 5.7 | 2.1 | virginica |\n| 7.2 | 3.2 | 6.0 | 1.8 | virginica |\n| 6.2 | 2.8 | 4.8 | 1.8 | virginica |\n| 6.1 | 3.0 | 4.9 | 1.8 | virginica |\n| 6.4 | 2.8 | 5.6 | 2.1 | virginica |\n| 7.2 | 3.0 | 5.8 | 1.6 | virginica |\n| 7.4 | 2.8 | 6.1 | 1.9 | virginica |\n| 7.9 | 3.8 | 6.4 | 2.0 | virginica |\n| 6.4 | 2.8 | 5.6 | 2.2 | virginica |\n| 6.3 | 2.8 | 5.1 | 1.5 | virginica |\n| 6.1 | 2.6 | 5.6 | 1.4 | virginica |\n| 7.7 | 3.0 | 6.1 | 2.3 | virginica |\n| 6.3 | 3.4 | 5.6 | 2.4 | virginica |\n| 6.4 | 3.1 | 5.5 | 1.8 | virginica |\n| 6.0 | 3.0 | 4.8 | 1.8 | virginica |\n| 6.9 | 3.1 | 5.4 | 2.1 | virginica |\n| 6.7 | 3.1 | 5.6 | 2.4 | virginica |\n| 6.9 | 3.1 | 5.1 | 2.3 | virginica |\n| 5.8 | 2.7 | 5.1 | 1.9 | virginica |\n| 6.8 | 3.2 | 5.9 | 2.3 | virginica |\n| 6.7 | 3.3 | 5.7 | 2.5 | virginica |\n| 6.7 | 3.0 | 5.2 | 2.3 | virginica |\n| 6.3 | 2.5 | 5.0 | 1.9 | virginica |\n| 6.5 | 3.0 | 5.2 | 2.0 | virginica |\n| 6.2 | 3.4 | 5.4 | 2.3 | virginica |\n| 5.9 | 3.0 | 5.1 | 1.8 | virginica |\n\n",
            "text/html": [
              "<table class=\"dataframe\">\n",
              "<caption>A data.frame: 150 × 5</caption>\n",
              "<thead>\n",
              "\t<tr><th scope=col>Sepal.Length</th><th scope=col>Sepal.Width</th><th scope=col>Petal.Length</th><th scope=col>Petal.Width</th><th scope=col>Species</th></tr>\n",
              "\t<tr><th scope=col>&lt;dbl&gt;</th><th scope=col>&lt;dbl&gt;</th><th scope=col>&lt;dbl&gt;</th><th scope=col>&lt;dbl&gt;</th><th scope=col>&lt;fct&gt;</th></tr>\n",
              "</thead>\n",
              "<tbody>\n",
              "\t<tr><td>5.1</td><td>3.5</td><td>1.4</td><td>0.2</td><td>setosa</td></tr>\n",
              "\t<tr><td>4.9</td><td>3.0</td><td>1.4</td><td>0.2</td><td>setosa</td></tr>\n",
              "\t<tr><td>4.7</td><td>3.2</td><td>1.3</td><td>0.2</td><td>setosa</td></tr>\n",
              "\t<tr><td>4.6</td><td>3.1</td><td>1.5</td><td>0.2</td><td>setosa</td></tr>\n",
              "\t<tr><td>5.0</td><td>3.6</td><td>1.4</td><td>0.2</td><td>setosa</td></tr>\n",
              "\t<tr><td>5.4</td><td>3.9</td><td>1.7</td><td>0.4</td><td>setosa</td></tr>\n",
              "\t<tr><td>4.6</td><td>3.4</td><td>1.4</td><td>0.3</td><td>setosa</td></tr>\n",
              "\t<tr><td>5.0</td><td>3.4</td><td>1.5</td><td>0.2</td><td>setosa</td></tr>\n",
              "\t<tr><td>4.4</td><td>2.9</td><td>1.4</td><td>0.2</td><td>setosa</td></tr>\n",
              "\t<tr><td>4.9</td><td>3.1</td><td>1.5</td><td>0.1</td><td>setosa</td></tr>\n",
              "\t<tr><td>5.4</td><td>3.7</td><td>1.5</td><td>0.2</td><td>setosa</td></tr>\n",
              "\t<tr><td>4.8</td><td>3.4</td><td>1.6</td><td>0.2</td><td>setosa</td></tr>\n",
              "\t<tr><td>4.8</td><td>3.0</td><td>1.4</td><td>0.1</td><td>setosa</td></tr>\n",
              "\t<tr><td>4.3</td><td>3.0</td><td>1.1</td><td>0.1</td><td>setosa</td></tr>\n",
              "\t<tr><td>5.8</td><td>4.0</td><td>1.2</td><td>0.2</td><td>setosa</td></tr>\n",
              "\t<tr><td>5.7</td><td>4.4</td><td>1.5</td><td>0.4</td><td>setosa</td></tr>\n",
              "\t<tr><td>5.4</td><td>3.9</td><td>1.3</td><td>0.4</td><td>setosa</td></tr>\n",
              "\t<tr><td>5.1</td><td>3.5</td><td>1.4</td><td>0.3</td><td>setosa</td></tr>\n",
              "\t<tr><td>5.7</td><td>3.8</td><td>1.7</td><td>0.3</td><td>setosa</td></tr>\n",
              "\t<tr><td>5.1</td><td>3.8</td><td>1.5</td><td>0.3</td><td>setosa</td></tr>\n",
              "\t<tr><td>5.4</td><td>3.4</td><td>1.7</td><td>0.2</td><td>setosa</td></tr>\n",
              "\t<tr><td>5.1</td><td>3.7</td><td>1.5</td><td>0.4</td><td>setosa</td></tr>\n",
              "\t<tr><td>4.6</td><td>3.6</td><td>1.0</td><td>0.2</td><td>setosa</td></tr>\n",
              "\t<tr><td>5.1</td><td>3.3</td><td>1.7</td><td>0.5</td><td>setosa</td></tr>\n",
              "\t<tr><td>4.8</td><td>3.4</td><td>1.9</td><td>0.2</td><td>setosa</td></tr>\n",
              "\t<tr><td>5.0</td><td>3.0</td><td>1.6</td><td>0.2</td><td>setosa</td></tr>\n",
              "\t<tr><td>5.0</td><td>3.4</td><td>1.6</td><td>0.4</td><td>setosa</td></tr>\n",
              "\t<tr><td>5.2</td><td>3.5</td><td>1.5</td><td>0.2</td><td>setosa</td></tr>\n",
              "\t<tr><td>5.2</td><td>3.4</td><td>1.4</td><td>0.2</td><td>setosa</td></tr>\n",
              "\t<tr><td>4.7</td><td>3.2</td><td>1.6</td><td>0.2</td><td>setosa</td></tr>\n",
              "\t<tr><td>⋮</td><td>⋮</td><td>⋮</td><td>⋮</td><td>⋮</td></tr>\n",
              "\t<tr><td>6.9</td><td>3.2</td><td>5.7</td><td>2.3</td><td>virginica</td></tr>\n",
              "\t<tr><td>5.6</td><td>2.8</td><td>4.9</td><td>2.0</td><td>virginica</td></tr>\n",
              "\t<tr><td>7.7</td><td>2.8</td><td>6.7</td><td>2.0</td><td>virginica</td></tr>\n",
              "\t<tr><td>6.3</td><td>2.7</td><td>4.9</td><td>1.8</td><td>virginica</td></tr>\n",
              "\t<tr><td>6.7</td><td>3.3</td><td>5.7</td><td>2.1</td><td>virginica</td></tr>\n",
              "\t<tr><td>7.2</td><td>3.2</td><td>6.0</td><td>1.8</td><td>virginica</td></tr>\n",
              "\t<tr><td>6.2</td><td>2.8</td><td>4.8</td><td>1.8</td><td>virginica</td></tr>\n",
              "\t<tr><td>6.1</td><td>3.0</td><td>4.9</td><td>1.8</td><td>virginica</td></tr>\n",
              "\t<tr><td>6.4</td><td>2.8</td><td>5.6</td><td>2.1</td><td>virginica</td></tr>\n",
              "\t<tr><td>7.2</td><td>3.0</td><td>5.8</td><td>1.6</td><td>virginica</td></tr>\n",
              "\t<tr><td>7.4</td><td>2.8</td><td>6.1</td><td>1.9</td><td>virginica</td></tr>\n",
              "\t<tr><td>7.9</td><td>3.8</td><td>6.4</td><td>2.0</td><td>virginica</td></tr>\n",
              "\t<tr><td>6.4</td><td>2.8</td><td>5.6</td><td>2.2</td><td>virginica</td></tr>\n",
              "\t<tr><td>6.3</td><td>2.8</td><td>5.1</td><td>1.5</td><td>virginica</td></tr>\n",
              "\t<tr><td>6.1</td><td>2.6</td><td>5.6</td><td>1.4</td><td>virginica</td></tr>\n",
              "\t<tr><td>7.7</td><td>3.0</td><td>6.1</td><td>2.3</td><td>virginica</td></tr>\n",
              "\t<tr><td>6.3</td><td>3.4</td><td>5.6</td><td>2.4</td><td>virginica</td></tr>\n",
              "\t<tr><td>6.4</td><td>3.1</td><td>5.5</td><td>1.8</td><td>virginica</td></tr>\n",
              "\t<tr><td>6.0</td><td>3.0</td><td>4.8</td><td>1.8</td><td>virginica</td></tr>\n",
              "\t<tr><td>6.9</td><td>3.1</td><td>5.4</td><td>2.1</td><td>virginica</td></tr>\n",
              "\t<tr><td>6.7</td><td>3.1</td><td>5.6</td><td>2.4</td><td>virginica</td></tr>\n",
              "\t<tr><td>6.9</td><td>3.1</td><td>5.1</td><td>2.3</td><td>virginica</td></tr>\n",
              "\t<tr><td>5.8</td><td>2.7</td><td>5.1</td><td>1.9</td><td>virginica</td></tr>\n",
              "\t<tr><td>6.8</td><td>3.2</td><td>5.9</td><td>2.3</td><td>virginica</td></tr>\n",
              "\t<tr><td>6.7</td><td>3.3</td><td>5.7</td><td>2.5</td><td>virginica</td></tr>\n",
              "\t<tr><td>6.7</td><td>3.0</td><td>5.2</td><td>2.3</td><td>virginica</td></tr>\n",
              "\t<tr><td>6.3</td><td>2.5</td><td>5.0</td><td>1.9</td><td>virginica</td></tr>\n",
              "\t<tr><td>6.5</td><td>3.0</td><td>5.2</td><td>2.0</td><td>virginica</td></tr>\n",
              "\t<tr><td>6.2</td><td>3.4</td><td>5.4</td><td>2.3</td><td>virginica</td></tr>\n",
              "\t<tr><td>5.9</td><td>3.0</td><td>5.1</td><td>1.8</td><td>virginica</td></tr>\n",
              "</tbody>\n",
              "</table>\n"
            ]
          },
          "metadata": {}
        },
        {
          "output_type": "display_data",
          "data": {
            "text/plain": [
              "    Sepal.Length Sepal.Width Petal.Length Petal.Width Species  \n",
              "1   5.1          3.5         1.4          0.2         setosa   \n",
              "2   4.9          3.0         1.4          0.2         setosa   \n",
              "3   4.7          3.2         1.3          0.2         setosa   \n",
              "4   4.6          3.1         1.5          0.2         setosa   \n",
              "5   5.0          3.6         1.4          0.2         setosa   \n",
              "6   5.4          3.9         1.7          0.4         setosa   \n",
              "7   4.6          3.4         1.4          0.3         setosa   \n",
              "8   5.0          3.4         1.5          0.2         setosa   \n",
              "9   4.4          2.9         1.4          0.2         setosa   \n",
              "10  4.9          3.1         1.5          0.1         setosa   \n",
              "11  5.4          3.7         1.5          0.2         setosa   \n",
              "12  4.8          3.4         1.6          0.2         setosa   \n",
              "13  4.8          3.0         1.4          0.1         setosa   \n",
              "14  4.3          3.0         1.1          0.1         setosa   \n",
              "15  5.8          4.0         1.2          0.2         setosa   \n",
              "16  5.7          4.4         1.5          0.4         setosa   \n",
              "17  5.4          3.9         1.3          0.4         setosa   \n",
              "18  5.1          3.5         1.4          0.3         setosa   \n",
              "19  5.7          3.8         1.7          0.3         setosa   \n",
              "20  5.1          3.8         1.5          0.3         setosa   \n",
              "21  5.4          3.4         1.7          0.2         setosa   \n",
              "22  5.1          3.7         1.5          0.4         setosa   \n",
              "23  4.6          3.6         1.0          0.2         setosa   \n",
              "24  5.1          3.3         1.7          0.5         setosa   \n",
              "25  4.8          3.4         1.9          0.2         setosa   \n",
              "26  5.0          3.0         1.6          0.2         setosa   \n",
              "27  5.0          3.4         1.6          0.4         setosa   \n",
              "28  5.2          3.5         1.5          0.2         setosa   \n",
              "29  5.2          3.4         1.4          0.2         setosa   \n",
              "30  4.7          3.2         1.6          0.2         setosa   \n",
              "⋮   ⋮            ⋮           ⋮            ⋮           ⋮        \n",
              "121 6.9          3.2         5.7          2.3         virginica\n",
              "122 5.6          2.8         4.9          2.0         virginica\n",
              "123 7.7          2.8         6.7          2.0         virginica\n",
              "124 6.3          2.7         4.9          1.8         virginica\n",
              "125 6.7          3.3         5.7          2.1         virginica\n",
              "126 7.2          3.2         6.0          1.8         virginica\n",
              "127 6.2          2.8         4.8          1.8         virginica\n",
              "128 6.1          3.0         4.9          1.8         virginica\n",
              "129 6.4          2.8         5.6          2.1         virginica\n",
              "130 7.2          3.0         5.8          1.6         virginica\n",
              "131 7.4          2.8         6.1          1.9         virginica\n",
              "132 7.9          3.8         6.4          2.0         virginica\n",
              "133 6.4          2.8         5.6          2.2         virginica\n",
              "134 6.3          2.8         5.1          1.5         virginica\n",
              "135 6.1          2.6         5.6          1.4         virginica\n",
              "136 7.7          3.0         6.1          2.3         virginica\n",
              "137 6.3          3.4         5.6          2.4         virginica\n",
              "138 6.4          3.1         5.5          1.8         virginica\n",
              "139 6.0          3.0         4.8          1.8         virginica\n",
              "140 6.9          3.1         5.4          2.1         virginica\n",
              "141 6.7          3.1         5.6          2.4         virginica\n",
              "142 6.9          3.1         5.1          2.3         virginica\n",
              "143 5.8          2.7         5.1          1.9         virginica\n",
              "144 6.8          3.2         5.9          2.3         virginica\n",
              "145 6.7          3.3         5.7          2.5         virginica\n",
              "146 6.7          3.0         5.2          2.3         virginica\n",
              "147 6.3          2.5         5.0          1.9         virginica\n",
              "148 6.5          3.0         5.2          2.0         virginica\n",
              "149 6.2          3.4         5.4          2.3         virginica\n",
              "150 5.9          3.0         5.1          1.8         virginica"
            ],
            "text/latex": "A data.frame: 150 × 5\n\\begin{tabular}{lllll}\n Sepal.Length & Sepal.Width & Petal.Length & Petal.Width & Species\\\\\n <dbl> & <dbl> & <dbl> & <dbl> & <fct>\\\\\n\\hline\n\t 5.1 & 3.5 & 1.4 & 0.2 & setosa\\\\\n\t 4.9 & 3.0 & 1.4 & 0.2 & setosa\\\\\n\t 4.7 & 3.2 & 1.3 & 0.2 & setosa\\\\\n\t 4.6 & 3.1 & 1.5 & 0.2 & setosa\\\\\n\t 5.0 & 3.6 & 1.4 & 0.2 & setosa\\\\\n\t 5.4 & 3.9 & 1.7 & 0.4 & setosa\\\\\n\t 4.6 & 3.4 & 1.4 & 0.3 & setosa\\\\\n\t 5.0 & 3.4 & 1.5 & 0.2 & setosa\\\\\n\t 4.4 & 2.9 & 1.4 & 0.2 & setosa\\\\\n\t 4.9 & 3.1 & 1.5 & 0.1 & setosa\\\\\n\t 5.4 & 3.7 & 1.5 & 0.2 & setosa\\\\\n\t 4.8 & 3.4 & 1.6 & 0.2 & setosa\\\\\n\t 4.8 & 3.0 & 1.4 & 0.1 & setosa\\\\\n\t 4.3 & 3.0 & 1.1 & 0.1 & setosa\\\\\n\t 5.8 & 4.0 & 1.2 & 0.2 & setosa\\\\\n\t 5.7 & 4.4 & 1.5 & 0.4 & setosa\\\\\n\t 5.4 & 3.9 & 1.3 & 0.4 & setosa\\\\\n\t 5.1 & 3.5 & 1.4 & 0.3 & setosa\\\\\n\t 5.7 & 3.8 & 1.7 & 0.3 & setosa\\\\\n\t 5.1 & 3.8 & 1.5 & 0.3 & setosa\\\\\n\t 5.4 & 3.4 & 1.7 & 0.2 & setosa\\\\\n\t 5.1 & 3.7 & 1.5 & 0.4 & setosa\\\\\n\t 4.6 & 3.6 & 1.0 & 0.2 & setosa\\\\\n\t 5.1 & 3.3 & 1.7 & 0.5 & setosa\\\\\n\t 4.8 & 3.4 & 1.9 & 0.2 & setosa\\\\\n\t 5.0 & 3.0 & 1.6 & 0.2 & setosa\\\\\n\t 5.0 & 3.4 & 1.6 & 0.4 & setosa\\\\\n\t 5.2 & 3.5 & 1.5 & 0.2 & setosa\\\\\n\t 5.2 & 3.4 & 1.4 & 0.2 & setosa\\\\\n\t 4.7 & 3.2 & 1.6 & 0.2 & setosa\\\\\n\t ⋮ & ⋮ & ⋮ & ⋮ & ⋮\\\\\n\t 6.9 & 3.2 & 5.7 & 2.3 & virginica\\\\\n\t 5.6 & 2.8 & 4.9 & 2.0 & virginica\\\\\n\t 7.7 & 2.8 & 6.7 & 2.0 & virginica\\\\\n\t 6.3 & 2.7 & 4.9 & 1.8 & virginica\\\\\n\t 6.7 & 3.3 & 5.7 & 2.1 & virginica\\\\\n\t 7.2 & 3.2 & 6.0 & 1.8 & virginica\\\\\n\t 6.2 & 2.8 & 4.8 & 1.8 & virginica\\\\\n\t 6.1 & 3.0 & 4.9 & 1.8 & virginica\\\\\n\t 6.4 & 2.8 & 5.6 & 2.1 & virginica\\\\\n\t 7.2 & 3.0 & 5.8 & 1.6 & virginica\\\\\n\t 7.4 & 2.8 & 6.1 & 1.9 & virginica\\\\\n\t 7.9 & 3.8 & 6.4 & 2.0 & virginica\\\\\n\t 6.4 & 2.8 & 5.6 & 2.2 & virginica\\\\\n\t 6.3 & 2.8 & 5.1 & 1.5 & virginica\\\\\n\t 6.1 & 2.6 & 5.6 & 1.4 & virginica\\\\\n\t 7.7 & 3.0 & 6.1 & 2.3 & virginica\\\\\n\t 6.3 & 3.4 & 5.6 & 2.4 & virginica\\\\\n\t 6.4 & 3.1 & 5.5 & 1.8 & virginica\\\\\n\t 6.0 & 3.0 & 4.8 & 1.8 & virginica\\\\\n\t 6.9 & 3.1 & 5.4 & 2.1 & virginica\\\\\n\t 6.7 & 3.1 & 5.6 & 2.4 & virginica\\\\\n\t 6.9 & 3.1 & 5.1 & 2.3 & virginica\\\\\n\t 5.8 & 2.7 & 5.1 & 1.9 & virginica\\\\\n\t 6.8 & 3.2 & 5.9 & 2.3 & virginica\\\\\n\t 6.7 & 3.3 & 5.7 & 2.5 & virginica\\\\\n\t 6.7 & 3.0 & 5.2 & 2.3 & virginica\\\\\n\t 6.3 & 2.5 & 5.0 & 1.9 & virginica\\\\\n\t 6.5 & 3.0 & 5.2 & 2.0 & virginica\\\\\n\t 6.2 & 3.4 & 5.4 & 2.3 & virginica\\\\\n\t 5.9 & 3.0 & 5.1 & 1.8 & virginica\\\\\n\\end{tabular}\n",
            "text/markdown": "\nA data.frame: 150 × 5\n\n| Sepal.Length &lt;dbl&gt; | Sepal.Width &lt;dbl&gt; | Petal.Length &lt;dbl&gt; | Petal.Width &lt;dbl&gt; | Species &lt;fct&gt; |\n|---|---|---|---|---|\n| 5.1 | 3.5 | 1.4 | 0.2 | setosa |\n| 4.9 | 3.0 | 1.4 | 0.2 | setosa |\n| 4.7 | 3.2 | 1.3 | 0.2 | setosa |\n| 4.6 | 3.1 | 1.5 | 0.2 | setosa |\n| 5.0 | 3.6 | 1.4 | 0.2 | setosa |\n| 5.4 | 3.9 | 1.7 | 0.4 | setosa |\n| 4.6 | 3.4 | 1.4 | 0.3 | setosa |\n| 5.0 | 3.4 | 1.5 | 0.2 | setosa |\n| 4.4 | 2.9 | 1.4 | 0.2 | setosa |\n| 4.9 | 3.1 | 1.5 | 0.1 | setosa |\n| 5.4 | 3.7 | 1.5 | 0.2 | setosa |\n| 4.8 | 3.4 | 1.6 | 0.2 | setosa |\n| 4.8 | 3.0 | 1.4 | 0.1 | setosa |\n| 4.3 | 3.0 | 1.1 | 0.1 | setosa |\n| 5.8 | 4.0 | 1.2 | 0.2 | setosa |\n| 5.7 | 4.4 | 1.5 | 0.4 | setosa |\n| 5.4 | 3.9 | 1.3 | 0.4 | setosa |\n| 5.1 | 3.5 | 1.4 | 0.3 | setosa |\n| 5.7 | 3.8 | 1.7 | 0.3 | setosa |\n| 5.1 | 3.8 | 1.5 | 0.3 | setosa |\n| 5.4 | 3.4 | 1.7 | 0.2 | setosa |\n| 5.1 | 3.7 | 1.5 | 0.4 | setosa |\n| 4.6 | 3.6 | 1.0 | 0.2 | setosa |\n| 5.1 | 3.3 | 1.7 | 0.5 | setosa |\n| 4.8 | 3.4 | 1.9 | 0.2 | setosa |\n| 5.0 | 3.0 | 1.6 | 0.2 | setosa |\n| 5.0 | 3.4 | 1.6 | 0.4 | setosa |\n| 5.2 | 3.5 | 1.5 | 0.2 | setosa |\n| 5.2 | 3.4 | 1.4 | 0.2 | setosa |\n| 4.7 | 3.2 | 1.6 | 0.2 | setosa |\n| ⋮ | ⋮ | ⋮ | ⋮ | ⋮ |\n| 6.9 | 3.2 | 5.7 | 2.3 | virginica |\n| 5.6 | 2.8 | 4.9 | 2.0 | virginica |\n| 7.7 | 2.8 | 6.7 | 2.0 | virginica |\n| 6.3 | 2.7 | 4.9 | 1.8 | virginica |\n| 6.7 | 3.3 | 5.7 | 2.1 | virginica |\n| 7.2 | 3.2 | 6.0 | 1.8 | virginica |\n| 6.2 | 2.8 | 4.8 | 1.8 | virginica |\n| 6.1 | 3.0 | 4.9 | 1.8 | virginica |\n| 6.4 | 2.8 | 5.6 | 2.1 | virginica |\n| 7.2 | 3.0 | 5.8 | 1.6 | virginica |\n| 7.4 | 2.8 | 6.1 | 1.9 | virginica |\n| 7.9 | 3.8 | 6.4 | 2.0 | virginica |\n| 6.4 | 2.8 | 5.6 | 2.2 | virginica |\n| 6.3 | 2.8 | 5.1 | 1.5 | virginica |\n| 6.1 | 2.6 | 5.6 | 1.4 | virginica |\n| 7.7 | 3.0 | 6.1 | 2.3 | virginica |\n| 6.3 | 3.4 | 5.6 | 2.4 | virginica |\n| 6.4 | 3.1 | 5.5 | 1.8 | virginica |\n| 6.0 | 3.0 | 4.8 | 1.8 | virginica |\n| 6.9 | 3.1 | 5.4 | 2.1 | virginica |\n| 6.7 | 3.1 | 5.6 | 2.4 | virginica |\n| 6.9 | 3.1 | 5.1 | 2.3 | virginica |\n| 5.8 | 2.7 | 5.1 | 1.9 | virginica |\n| 6.8 | 3.2 | 5.9 | 2.3 | virginica |\n| 6.7 | 3.3 | 5.7 | 2.5 | virginica |\n| 6.7 | 3.0 | 5.2 | 2.3 | virginica |\n| 6.3 | 2.5 | 5.0 | 1.9 | virginica |\n| 6.5 | 3.0 | 5.2 | 2.0 | virginica |\n| 6.2 | 3.4 | 5.4 | 2.3 | virginica |\n| 5.9 | 3.0 | 5.1 | 1.8 | virginica |\n\n",
            "text/html": [
              "<table class=\"dataframe\">\n",
              "<caption>A data.frame: 150 × 5</caption>\n",
              "<thead>\n",
              "\t<tr><th scope=col>Sepal.Length</th><th scope=col>Sepal.Width</th><th scope=col>Petal.Length</th><th scope=col>Petal.Width</th><th scope=col>Species</th></tr>\n",
              "\t<tr><th scope=col>&lt;dbl&gt;</th><th scope=col>&lt;dbl&gt;</th><th scope=col>&lt;dbl&gt;</th><th scope=col>&lt;dbl&gt;</th><th scope=col>&lt;fct&gt;</th></tr>\n",
              "</thead>\n",
              "<tbody>\n",
              "\t<tr><td>5.1</td><td>3.5</td><td>1.4</td><td>0.2</td><td>setosa</td></tr>\n",
              "\t<tr><td>4.9</td><td>3.0</td><td>1.4</td><td>0.2</td><td>setosa</td></tr>\n",
              "\t<tr><td>4.7</td><td>3.2</td><td>1.3</td><td>0.2</td><td>setosa</td></tr>\n",
              "\t<tr><td>4.6</td><td>3.1</td><td>1.5</td><td>0.2</td><td>setosa</td></tr>\n",
              "\t<tr><td>5.0</td><td>3.6</td><td>1.4</td><td>0.2</td><td>setosa</td></tr>\n",
              "\t<tr><td>5.4</td><td>3.9</td><td>1.7</td><td>0.4</td><td>setosa</td></tr>\n",
              "\t<tr><td>4.6</td><td>3.4</td><td>1.4</td><td>0.3</td><td>setosa</td></tr>\n",
              "\t<tr><td>5.0</td><td>3.4</td><td>1.5</td><td>0.2</td><td>setosa</td></tr>\n",
              "\t<tr><td>4.4</td><td>2.9</td><td>1.4</td><td>0.2</td><td>setosa</td></tr>\n",
              "\t<tr><td>4.9</td><td>3.1</td><td>1.5</td><td>0.1</td><td>setosa</td></tr>\n",
              "\t<tr><td>5.4</td><td>3.7</td><td>1.5</td><td>0.2</td><td>setosa</td></tr>\n",
              "\t<tr><td>4.8</td><td>3.4</td><td>1.6</td><td>0.2</td><td>setosa</td></tr>\n",
              "\t<tr><td>4.8</td><td>3.0</td><td>1.4</td><td>0.1</td><td>setosa</td></tr>\n",
              "\t<tr><td>4.3</td><td>3.0</td><td>1.1</td><td>0.1</td><td>setosa</td></tr>\n",
              "\t<tr><td>5.8</td><td>4.0</td><td>1.2</td><td>0.2</td><td>setosa</td></tr>\n",
              "\t<tr><td>5.7</td><td>4.4</td><td>1.5</td><td>0.4</td><td>setosa</td></tr>\n",
              "\t<tr><td>5.4</td><td>3.9</td><td>1.3</td><td>0.4</td><td>setosa</td></tr>\n",
              "\t<tr><td>5.1</td><td>3.5</td><td>1.4</td><td>0.3</td><td>setosa</td></tr>\n",
              "\t<tr><td>5.7</td><td>3.8</td><td>1.7</td><td>0.3</td><td>setosa</td></tr>\n",
              "\t<tr><td>5.1</td><td>3.8</td><td>1.5</td><td>0.3</td><td>setosa</td></tr>\n",
              "\t<tr><td>5.4</td><td>3.4</td><td>1.7</td><td>0.2</td><td>setosa</td></tr>\n",
              "\t<tr><td>5.1</td><td>3.7</td><td>1.5</td><td>0.4</td><td>setosa</td></tr>\n",
              "\t<tr><td>4.6</td><td>3.6</td><td>1.0</td><td>0.2</td><td>setosa</td></tr>\n",
              "\t<tr><td>5.1</td><td>3.3</td><td>1.7</td><td>0.5</td><td>setosa</td></tr>\n",
              "\t<tr><td>4.8</td><td>3.4</td><td>1.9</td><td>0.2</td><td>setosa</td></tr>\n",
              "\t<tr><td>5.0</td><td>3.0</td><td>1.6</td><td>0.2</td><td>setosa</td></tr>\n",
              "\t<tr><td>5.0</td><td>3.4</td><td>1.6</td><td>0.4</td><td>setosa</td></tr>\n",
              "\t<tr><td>5.2</td><td>3.5</td><td>1.5</td><td>0.2</td><td>setosa</td></tr>\n",
              "\t<tr><td>5.2</td><td>3.4</td><td>1.4</td><td>0.2</td><td>setosa</td></tr>\n",
              "\t<tr><td>4.7</td><td>3.2</td><td>1.6</td><td>0.2</td><td>setosa</td></tr>\n",
              "\t<tr><td>⋮</td><td>⋮</td><td>⋮</td><td>⋮</td><td>⋮</td></tr>\n",
              "\t<tr><td>6.9</td><td>3.2</td><td>5.7</td><td>2.3</td><td>virginica</td></tr>\n",
              "\t<tr><td>5.6</td><td>2.8</td><td>4.9</td><td>2.0</td><td>virginica</td></tr>\n",
              "\t<tr><td>7.7</td><td>2.8</td><td>6.7</td><td>2.0</td><td>virginica</td></tr>\n",
              "\t<tr><td>6.3</td><td>2.7</td><td>4.9</td><td>1.8</td><td>virginica</td></tr>\n",
              "\t<tr><td>6.7</td><td>3.3</td><td>5.7</td><td>2.1</td><td>virginica</td></tr>\n",
              "\t<tr><td>7.2</td><td>3.2</td><td>6.0</td><td>1.8</td><td>virginica</td></tr>\n",
              "\t<tr><td>6.2</td><td>2.8</td><td>4.8</td><td>1.8</td><td>virginica</td></tr>\n",
              "\t<tr><td>6.1</td><td>3.0</td><td>4.9</td><td>1.8</td><td>virginica</td></tr>\n",
              "\t<tr><td>6.4</td><td>2.8</td><td>5.6</td><td>2.1</td><td>virginica</td></tr>\n",
              "\t<tr><td>7.2</td><td>3.0</td><td>5.8</td><td>1.6</td><td>virginica</td></tr>\n",
              "\t<tr><td>7.4</td><td>2.8</td><td>6.1</td><td>1.9</td><td>virginica</td></tr>\n",
              "\t<tr><td>7.9</td><td>3.8</td><td>6.4</td><td>2.0</td><td>virginica</td></tr>\n",
              "\t<tr><td>6.4</td><td>2.8</td><td>5.6</td><td>2.2</td><td>virginica</td></tr>\n",
              "\t<tr><td>6.3</td><td>2.8</td><td>5.1</td><td>1.5</td><td>virginica</td></tr>\n",
              "\t<tr><td>6.1</td><td>2.6</td><td>5.6</td><td>1.4</td><td>virginica</td></tr>\n",
              "\t<tr><td>7.7</td><td>3.0</td><td>6.1</td><td>2.3</td><td>virginica</td></tr>\n",
              "\t<tr><td>6.3</td><td>3.4</td><td>5.6</td><td>2.4</td><td>virginica</td></tr>\n",
              "\t<tr><td>6.4</td><td>3.1</td><td>5.5</td><td>1.8</td><td>virginica</td></tr>\n",
              "\t<tr><td>6.0</td><td>3.0</td><td>4.8</td><td>1.8</td><td>virginica</td></tr>\n",
              "\t<tr><td>6.9</td><td>3.1</td><td>5.4</td><td>2.1</td><td>virginica</td></tr>\n",
              "\t<tr><td>6.7</td><td>3.1</td><td>5.6</td><td>2.4</td><td>virginica</td></tr>\n",
              "\t<tr><td>6.9</td><td>3.1</td><td>5.1</td><td>2.3</td><td>virginica</td></tr>\n",
              "\t<tr><td>5.8</td><td>2.7</td><td>5.1</td><td>1.9</td><td>virginica</td></tr>\n",
              "\t<tr><td>6.8</td><td>3.2</td><td>5.9</td><td>2.3</td><td>virginica</td></tr>\n",
              "\t<tr><td>6.7</td><td>3.3</td><td>5.7</td><td>2.5</td><td>virginica</td></tr>\n",
              "\t<tr><td>6.7</td><td>3.0</td><td>5.2</td><td>2.3</td><td>virginica</td></tr>\n",
              "\t<tr><td>6.3</td><td>2.5</td><td>5.0</td><td>1.9</td><td>virginica</td></tr>\n",
              "\t<tr><td>6.5</td><td>3.0</td><td>5.2</td><td>2.0</td><td>virginica</td></tr>\n",
              "\t<tr><td>6.2</td><td>3.4</td><td>5.4</td><td>2.3</td><td>virginica</td></tr>\n",
              "\t<tr><td>5.9</td><td>3.0</td><td>5.1</td><td>1.8</td><td>virginica</td></tr>\n",
              "</tbody>\n",
              "</table>\n"
            ]
          },
          "metadata": {}
        },
        {
          "output_type": "display_data",
          "data": {
            "text/plain": [
              "    Sepal.Length Sepal.Width Petal.Length Petal.Width Species  \n",
              "1   5.1          3.5         1.4          0.2         setosa   \n",
              "2   4.9          3.0         1.4          0.2         setosa   \n",
              "3   4.7          3.2         1.3          0.2         setosa   \n",
              "4   4.6          3.1         1.5          0.2         setosa   \n",
              "5   5.0          3.6         1.4          0.2         setosa   \n",
              "6   5.4          3.9         1.7          0.4         setosa   \n",
              "7   4.6          3.4         1.4          0.3         setosa   \n",
              "8   5.0          3.4         1.5          0.2         setosa   \n",
              "9   4.4          2.9         1.4          0.2         setosa   \n",
              "10  4.9          3.1         1.5          0.1         setosa   \n",
              "11  5.4          3.7         1.5          0.2         setosa   \n",
              "12  4.8          3.4         1.6          0.2         setosa   \n",
              "13  4.8          3.0         1.4          0.1         setosa   \n",
              "14  4.3          3.0         1.1          0.1         setosa   \n",
              "15  5.8          4.0         1.2          0.2         setosa   \n",
              "16  5.7          4.4         1.5          0.4         setosa   \n",
              "17  5.4          3.9         1.3          0.4         setosa   \n",
              "18  5.1          3.5         1.4          0.3         setosa   \n",
              "19  5.7          3.8         1.7          0.3         setosa   \n",
              "20  5.1          3.8         1.5          0.3         setosa   \n",
              "21  5.4          3.4         1.7          0.2         setosa   \n",
              "22  5.1          3.7         1.5          0.4         setosa   \n",
              "23  4.6          3.6         1.0          0.2         setosa   \n",
              "24  5.1          3.3         1.7          0.5         setosa   \n",
              "25  4.8          3.4         1.9          0.2         setosa   \n",
              "26  5.0          3.0         1.6          0.2         setosa   \n",
              "27  5.0          3.4         1.6          0.4         setosa   \n",
              "28  5.2          3.5         1.5          0.2         setosa   \n",
              "29  5.2          3.4         1.4          0.2         setosa   \n",
              "30  4.7          3.2         1.6          0.2         setosa   \n",
              "⋮   ⋮            ⋮           ⋮            ⋮           ⋮        \n",
              "121 6.9          3.2         5.7          2.3         virginica\n",
              "122 5.6          2.8         4.9          2.0         virginica\n",
              "123 7.7          2.8         6.7          2.0         virginica\n",
              "124 6.3          2.7         4.9          1.8         virginica\n",
              "125 6.7          3.3         5.7          2.1         virginica\n",
              "126 7.2          3.2         6.0          1.8         virginica\n",
              "127 6.2          2.8         4.8          1.8         virginica\n",
              "128 6.1          3.0         4.9          1.8         virginica\n",
              "129 6.4          2.8         5.6          2.1         virginica\n",
              "130 7.2          3.0         5.8          1.6         virginica\n",
              "131 7.4          2.8         6.1          1.9         virginica\n",
              "132 7.9          3.8         6.4          2.0         virginica\n",
              "133 6.4          2.8         5.6          2.2         virginica\n",
              "134 6.3          2.8         5.1          1.5         virginica\n",
              "135 6.1          2.6         5.6          1.4         virginica\n",
              "136 7.7          3.0         6.1          2.3         virginica\n",
              "137 6.3          3.4         5.6          2.4         virginica\n",
              "138 6.4          3.1         5.5          1.8         virginica\n",
              "139 6.0          3.0         4.8          1.8         virginica\n",
              "140 6.9          3.1         5.4          2.1         virginica\n",
              "141 6.7          3.1         5.6          2.4         virginica\n",
              "142 6.9          3.1         5.1          2.3         virginica\n",
              "143 5.8          2.7         5.1          1.9         virginica\n",
              "144 6.8          3.2         5.9          2.3         virginica\n",
              "145 6.7          3.3         5.7          2.5         virginica\n",
              "146 6.7          3.0         5.2          2.3         virginica\n",
              "147 6.3          2.5         5.0          1.9         virginica\n",
              "148 6.5          3.0         5.2          2.0         virginica\n",
              "149 6.2          3.4         5.4          2.3         virginica\n",
              "150 5.9          3.0         5.1          1.8         virginica"
            ],
            "text/latex": "A data.frame: 150 × 5\n\\begin{tabular}{lllll}\n Sepal.Length & Sepal.Width & Petal.Length & Petal.Width & Species\\\\\n <dbl> & <dbl> & <dbl> & <dbl> & <fct>\\\\\n\\hline\n\t 5.1 & 3.5 & 1.4 & 0.2 & setosa\\\\\n\t 4.9 & 3.0 & 1.4 & 0.2 & setosa\\\\\n\t 4.7 & 3.2 & 1.3 & 0.2 & setosa\\\\\n\t 4.6 & 3.1 & 1.5 & 0.2 & setosa\\\\\n\t 5.0 & 3.6 & 1.4 & 0.2 & setosa\\\\\n\t 5.4 & 3.9 & 1.7 & 0.4 & setosa\\\\\n\t 4.6 & 3.4 & 1.4 & 0.3 & setosa\\\\\n\t 5.0 & 3.4 & 1.5 & 0.2 & setosa\\\\\n\t 4.4 & 2.9 & 1.4 & 0.2 & setosa\\\\\n\t 4.9 & 3.1 & 1.5 & 0.1 & setosa\\\\\n\t 5.4 & 3.7 & 1.5 & 0.2 & setosa\\\\\n\t 4.8 & 3.4 & 1.6 & 0.2 & setosa\\\\\n\t 4.8 & 3.0 & 1.4 & 0.1 & setosa\\\\\n\t 4.3 & 3.0 & 1.1 & 0.1 & setosa\\\\\n\t 5.8 & 4.0 & 1.2 & 0.2 & setosa\\\\\n\t 5.7 & 4.4 & 1.5 & 0.4 & setosa\\\\\n\t 5.4 & 3.9 & 1.3 & 0.4 & setosa\\\\\n\t 5.1 & 3.5 & 1.4 & 0.3 & setosa\\\\\n\t 5.7 & 3.8 & 1.7 & 0.3 & setosa\\\\\n\t 5.1 & 3.8 & 1.5 & 0.3 & setosa\\\\\n\t 5.4 & 3.4 & 1.7 & 0.2 & setosa\\\\\n\t 5.1 & 3.7 & 1.5 & 0.4 & setosa\\\\\n\t 4.6 & 3.6 & 1.0 & 0.2 & setosa\\\\\n\t 5.1 & 3.3 & 1.7 & 0.5 & setosa\\\\\n\t 4.8 & 3.4 & 1.9 & 0.2 & setosa\\\\\n\t 5.0 & 3.0 & 1.6 & 0.2 & setosa\\\\\n\t 5.0 & 3.4 & 1.6 & 0.4 & setosa\\\\\n\t 5.2 & 3.5 & 1.5 & 0.2 & setosa\\\\\n\t 5.2 & 3.4 & 1.4 & 0.2 & setosa\\\\\n\t 4.7 & 3.2 & 1.6 & 0.2 & setosa\\\\\n\t ⋮ & ⋮ & ⋮ & ⋮ & ⋮\\\\\n\t 6.9 & 3.2 & 5.7 & 2.3 & virginica\\\\\n\t 5.6 & 2.8 & 4.9 & 2.0 & virginica\\\\\n\t 7.7 & 2.8 & 6.7 & 2.0 & virginica\\\\\n\t 6.3 & 2.7 & 4.9 & 1.8 & virginica\\\\\n\t 6.7 & 3.3 & 5.7 & 2.1 & virginica\\\\\n\t 7.2 & 3.2 & 6.0 & 1.8 & virginica\\\\\n\t 6.2 & 2.8 & 4.8 & 1.8 & virginica\\\\\n\t 6.1 & 3.0 & 4.9 & 1.8 & virginica\\\\\n\t 6.4 & 2.8 & 5.6 & 2.1 & virginica\\\\\n\t 7.2 & 3.0 & 5.8 & 1.6 & virginica\\\\\n\t 7.4 & 2.8 & 6.1 & 1.9 & virginica\\\\\n\t 7.9 & 3.8 & 6.4 & 2.0 & virginica\\\\\n\t 6.4 & 2.8 & 5.6 & 2.2 & virginica\\\\\n\t 6.3 & 2.8 & 5.1 & 1.5 & virginica\\\\\n\t 6.1 & 2.6 & 5.6 & 1.4 & virginica\\\\\n\t 7.7 & 3.0 & 6.1 & 2.3 & virginica\\\\\n\t 6.3 & 3.4 & 5.6 & 2.4 & virginica\\\\\n\t 6.4 & 3.1 & 5.5 & 1.8 & virginica\\\\\n\t 6.0 & 3.0 & 4.8 & 1.8 & virginica\\\\\n\t 6.9 & 3.1 & 5.4 & 2.1 & virginica\\\\\n\t 6.7 & 3.1 & 5.6 & 2.4 & virginica\\\\\n\t 6.9 & 3.1 & 5.1 & 2.3 & virginica\\\\\n\t 5.8 & 2.7 & 5.1 & 1.9 & virginica\\\\\n\t 6.8 & 3.2 & 5.9 & 2.3 & virginica\\\\\n\t 6.7 & 3.3 & 5.7 & 2.5 & virginica\\\\\n\t 6.7 & 3.0 & 5.2 & 2.3 & virginica\\\\\n\t 6.3 & 2.5 & 5.0 & 1.9 & virginica\\\\\n\t 6.5 & 3.0 & 5.2 & 2.0 & virginica\\\\\n\t 6.2 & 3.4 & 5.4 & 2.3 & virginica\\\\\n\t 5.9 & 3.0 & 5.1 & 1.8 & virginica\\\\\n\\end{tabular}\n",
            "text/markdown": "\nA data.frame: 150 × 5\n\n| Sepal.Length &lt;dbl&gt; | Sepal.Width &lt;dbl&gt; | Petal.Length &lt;dbl&gt; | Petal.Width &lt;dbl&gt; | Species &lt;fct&gt; |\n|---|---|---|---|---|\n| 5.1 | 3.5 | 1.4 | 0.2 | setosa |\n| 4.9 | 3.0 | 1.4 | 0.2 | setosa |\n| 4.7 | 3.2 | 1.3 | 0.2 | setosa |\n| 4.6 | 3.1 | 1.5 | 0.2 | setosa |\n| 5.0 | 3.6 | 1.4 | 0.2 | setosa |\n| 5.4 | 3.9 | 1.7 | 0.4 | setosa |\n| 4.6 | 3.4 | 1.4 | 0.3 | setosa |\n| 5.0 | 3.4 | 1.5 | 0.2 | setosa |\n| 4.4 | 2.9 | 1.4 | 0.2 | setosa |\n| 4.9 | 3.1 | 1.5 | 0.1 | setosa |\n| 5.4 | 3.7 | 1.5 | 0.2 | setosa |\n| 4.8 | 3.4 | 1.6 | 0.2 | setosa |\n| 4.8 | 3.0 | 1.4 | 0.1 | setosa |\n| 4.3 | 3.0 | 1.1 | 0.1 | setosa |\n| 5.8 | 4.0 | 1.2 | 0.2 | setosa |\n| 5.7 | 4.4 | 1.5 | 0.4 | setosa |\n| 5.4 | 3.9 | 1.3 | 0.4 | setosa |\n| 5.1 | 3.5 | 1.4 | 0.3 | setosa |\n| 5.7 | 3.8 | 1.7 | 0.3 | setosa |\n| 5.1 | 3.8 | 1.5 | 0.3 | setosa |\n| 5.4 | 3.4 | 1.7 | 0.2 | setosa |\n| 5.1 | 3.7 | 1.5 | 0.4 | setosa |\n| 4.6 | 3.6 | 1.0 | 0.2 | setosa |\n| 5.1 | 3.3 | 1.7 | 0.5 | setosa |\n| 4.8 | 3.4 | 1.9 | 0.2 | setosa |\n| 5.0 | 3.0 | 1.6 | 0.2 | setosa |\n| 5.0 | 3.4 | 1.6 | 0.4 | setosa |\n| 5.2 | 3.5 | 1.5 | 0.2 | setosa |\n| 5.2 | 3.4 | 1.4 | 0.2 | setosa |\n| 4.7 | 3.2 | 1.6 | 0.2 | setosa |\n| ⋮ | ⋮ | ⋮ | ⋮ | ⋮ |\n| 6.9 | 3.2 | 5.7 | 2.3 | virginica |\n| 5.6 | 2.8 | 4.9 | 2.0 | virginica |\n| 7.7 | 2.8 | 6.7 | 2.0 | virginica |\n| 6.3 | 2.7 | 4.9 | 1.8 | virginica |\n| 6.7 | 3.3 | 5.7 | 2.1 | virginica |\n| 7.2 | 3.2 | 6.0 | 1.8 | virginica |\n| 6.2 | 2.8 | 4.8 | 1.8 | virginica |\n| 6.1 | 3.0 | 4.9 | 1.8 | virginica |\n| 6.4 | 2.8 | 5.6 | 2.1 | virginica |\n| 7.2 | 3.0 | 5.8 | 1.6 | virginica |\n| 7.4 | 2.8 | 6.1 | 1.9 | virginica |\n| 7.9 | 3.8 | 6.4 | 2.0 | virginica |\n| 6.4 | 2.8 | 5.6 | 2.2 | virginica |\n| 6.3 | 2.8 | 5.1 | 1.5 | virginica |\n| 6.1 | 2.6 | 5.6 | 1.4 | virginica |\n| 7.7 | 3.0 | 6.1 | 2.3 | virginica |\n| 6.3 | 3.4 | 5.6 | 2.4 | virginica |\n| 6.4 | 3.1 | 5.5 | 1.8 | virginica |\n| 6.0 | 3.0 | 4.8 | 1.8 | virginica |\n| 6.9 | 3.1 | 5.4 | 2.1 | virginica |\n| 6.7 | 3.1 | 5.6 | 2.4 | virginica |\n| 6.9 | 3.1 | 5.1 | 2.3 | virginica |\n| 5.8 | 2.7 | 5.1 | 1.9 | virginica |\n| 6.8 | 3.2 | 5.9 | 2.3 | virginica |\n| 6.7 | 3.3 | 5.7 | 2.5 | virginica |\n| 6.7 | 3.0 | 5.2 | 2.3 | virginica |\n| 6.3 | 2.5 | 5.0 | 1.9 | virginica |\n| 6.5 | 3.0 | 5.2 | 2.0 | virginica |\n| 6.2 | 3.4 | 5.4 | 2.3 | virginica |\n| 5.9 | 3.0 | 5.1 | 1.8 | virginica |\n\n",
            "text/html": [
              "<table class=\"dataframe\">\n",
              "<caption>A data.frame: 150 × 5</caption>\n",
              "<thead>\n",
              "\t<tr><th scope=col>Sepal.Length</th><th scope=col>Sepal.Width</th><th scope=col>Petal.Length</th><th scope=col>Petal.Width</th><th scope=col>Species</th></tr>\n",
              "\t<tr><th scope=col>&lt;dbl&gt;</th><th scope=col>&lt;dbl&gt;</th><th scope=col>&lt;dbl&gt;</th><th scope=col>&lt;dbl&gt;</th><th scope=col>&lt;fct&gt;</th></tr>\n",
              "</thead>\n",
              "<tbody>\n",
              "\t<tr><td>5.1</td><td>3.5</td><td>1.4</td><td>0.2</td><td>setosa</td></tr>\n",
              "\t<tr><td>4.9</td><td>3.0</td><td>1.4</td><td>0.2</td><td>setosa</td></tr>\n",
              "\t<tr><td>4.7</td><td>3.2</td><td>1.3</td><td>0.2</td><td>setosa</td></tr>\n",
              "\t<tr><td>4.6</td><td>3.1</td><td>1.5</td><td>0.2</td><td>setosa</td></tr>\n",
              "\t<tr><td>5.0</td><td>3.6</td><td>1.4</td><td>0.2</td><td>setosa</td></tr>\n",
              "\t<tr><td>5.4</td><td>3.9</td><td>1.7</td><td>0.4</td><td>setosa</td></tr>\n",
              "\t<tr><td>4.6</td><td>3.4</td><td>1.4</td><td>0.3</td><td>setosa</td></tr>\n",
              "\t<tr><td>5.0</td><td>3.4</td><td>1.5</td><td>0.2</td><td>setosa</td></tr>\n",
              "\t<tr><td>4.4</td><td>2.9</td><td>1.4</td><td>0.2</td><td>setosa</td></tr>\n",
              "\t<tr><td>4.9</td><td>3.1</td><td>1.5</td><td>0.1</td><td>setosa</td></tr>\n",
              "\t<tr><td>5.4</td><td>3.7</td><td>1.5</td><td>0.2</td><td>setosa</td></tr>\n",
              "\t<tr><td>4.8</td><td>3.4</td><td>1.6</td><td>0.2</td><td>setosa</td></tr>\n",
              "\t<tr><td>4.8</td><td>3.0</td><td>1.4</td><td>0.1</td><td>setosa</td></tr>\n",
              "\t<tr><td>4.3</td><td>3.0</td><td>1.1</td><td>0.1</td><td>setosa</td></tr>\n",
              "\t<tr><td>5.8</td><td>4.0</td><td>1.2</td><td>0.2</td><td>setosa</td></tr>\n",
              "\t<tr><td>5.7</td><td>4.4</td><td>1.5</td><td>0.4</td><td>setosa</td></tr>\n",
              "\t<tr><td>5.4</td><td>3.9</td><td>1.3</td><td>0.4</td><td>setosa</td></tr>\n",
              "\t<tr><td>5.1</td><td>3.5</td><td>1.4</td><td>0.3</td><td>setosa</td></tr>\n",
              "\t<tr><td>5.7</td><td>3.8</td><td>1.7</td><td>0.3</td><td>setosa</td></tr>\n",
              "\t<tr><td>5.1</td><td>3.8</td><td>1.5</td><td>0.3</td><td>setosa</td></tr>\n",
              "\t<tr><td>5.4</td><td>3.4</td><td>1.7</td><td>0.2</td><td>setosa</td></tr>\n",
              "\t<tr><td>5.1</td><td>3.7</td><td>1.5</td><td>0.4</td><td>setosa</td></tr>\n",
              "\t<tr><td>4.6</td><td>3.6</td><td>1.0</td><td>0.2</td><td>setosa</td></tr>\n",
              "\t<tr><td>5.1</td><td>3.3</td><td>1.7</td><td>0.5</td><td>setosa</td></tr>\n",
              "\t<tr><td>4.8</td><td>3.4</td><td>1.9</td><td>0.2</td><td>setosa</td></tr>\n",
              "\t<tr><td>5.0</td><td>3.0</td><td>1.6</td><td>0.2</td><td>setosa</td></tr>\n",
              "\t<tr><td>5.0</td><td>3.4</td><td>1.6</td><td>0.4</td><td>setosa</td></tr>\n",
              "\t<tr><td>5.2</td><td>3.5</td><td>1.5</td><td>0.2</td><td>setosa</td></tr>\n",
              "\t<tr><td>5.2</td><td>3.4</td><td>1.4</td><td>0.2</td><td>setosa</td></tr>\n",
              "\t<tr><td>4.7</td><td>3.2</td><td>1.6</td><td>0.2</td><td>setosa</td></tr>\n",
              "\t<tr><td>⋮</td><td>⋮</td><td>⋮</td><td>⋮</td><td>⋮</td></tr>\n",
              "\t<tr><td>6.9</td><td>3.2</td><td>5.7</td><td>2.3</td><td>virginica</td></tr>\n",
              "\t<tr><td>5.6</td><td>2.8</td><td>4.9</td><td>2.0</td><td>virginica</td></tr>\n",
              "\t<tr><td>7.7</td><td>2.8</td><td>6.7</td><td>2.0</td><td>virginica</td></tr>\n",
              "\t<tr><td>6.3</td><td>2.7</td><td>4.9</td><td>1.8</td><td>virginica</td></tr>\n",
              "\t<tr><td>6.7</td><td>3.3</td><td>5.7</td><td>2.1</td><td>virginica</td></tr>\n",
              "\t<tr><td>7.2</td><td>3.2</td><td>6.0</td><td>1.8</td><td>virginica</td></tr>\n",
              "\t<tr><td>6.2</td><td>2.8</td><td>4.8</td><td>1.8</td><td>virginica</td></tr>\n",
              "\t<tr><td>6.1</td><td>3.0</td><td>4.9</td><td>1.8</td><td>virginica</td></tr>\n",
              "\t<tr><td>6.4</td><td>2.8</td><td>5.6</td><td>2.1</td><td>virginica</td></tr>\n",
              "\t<tr><td>7.2</td><td>3.0</td><td>5.8</td><td>1.6</td><td>virginica</td></tr>\n",
              "\t<tr><td>7.4</td><td>2.8</td><td>6.1</td><td>1.9</td><td>virginica</td></tr>\n",
              "\t<tr><td>7.9</td><td>3.8</td><td>6.4</td><td>2.0</td><td>virginica</td></tr>\n",
              "\t<tr><td>6.4</td><td>2.8</td><td>5.6</td><td>2.2</td><td>virginica</td></tr>\n",
              "\t<tr><td>6.3</td><td>2.8</td><td>5.1</td><td>1.5</td><td>virginica</td></tr>\n",
              "\t<tr><td>6.1</td><td>2.6</td><td>5.6</td><td>1.4</td><td>virginica</td></tr>\n",
              "\t<tr><td>7.7</td><td>3.0</td><td>6.1</td><td>2.3</td><td>virginica</td></tr>\n",
              "\t<tr><td>6.3</td><td>3.4</td><td>5.6</td><td>2.4</td><td>virginica</td></tr>\n",
              "\t<tr><td>6.4</td><td>3.1</td><td>5.5</td><td>1.8</td><td>virginica</td></tr>\n",
              "\t<tr><td>6.0</td><td>3.0</td><td>4.8</td><td>1.8</td><td>virginica</td></tr>\n",
              "\t<tr><td>6.9</td><td>3.1</td><td>5.4</td><td>2.1</td><td>virginica</td></tr>\n",
              "\t<tr><td>6.7</td><td>3.1</td><td>5.6</td><td>2.4</td><td>virginica</td></tr>\n",
              "\t<tr><td>6.9</td><td>3.1</td><td>5.1</td><td>2.3</td><td>virginica</td></tr>\n",
              "\t<tr><td>5.8</td><td>2.7</td><td>5.1</td><td>1.9</td><td>virginica</td></tr>\n",
              "\t<tr><td>6.8</td><td>3.2</td><td>5.9</td><td>2.3</td><td>virginica</td></tr>\n",
              "\t<tr><td>6.7</td><td>3.3</td><td>5.7</td><td>2.5</td><td>virginica</td></tr>\n",
              "\t<tr><td>6.7</td><td>3.0</td><td>5.2</td><td>2.3</td><td>virginica</td></tr>\n",
              "\t<tr><td>6.3</td><td>2.5</td><td>5.0</td><td>1.9</td><td>virginica</td></tr>\n",
              "\t<tr><td>6.5</td><td>3.0</td><td>5.2</td><td>2.0</td><td>virginica</td></tr>\n",
              "\t<tr><td>6.2</td><td>3.4</td><td>5.4</td><td>2.3</td><td>virginica</td></tr>\n",
              "\t<tr><td>5.9</td><td>3.0</td><td>5.1</td><td>1.8</td><td>virginica</td></tr>\n",
              "</tbody>\n",
              "</table>\n"
            ]
          },
          "metadata": {}
        }
      ]
    },
    {
      "cell_type": "markdown",
      "metadata": {
        "id": "xCZ4jsO_98ni"
      },
      "source": [
        "**12. Tipe Assignment**"
      ]
    },
    {
      "cell_type": "markdown",
      "metadata": {
        "id": "o__yuqUi-CIX"
      },
      "source": [
        "+ Style 1"
      ]
    },
    {
      "cell_type": "code",
      "metadata": {
        "id": "m1L78QG3-Ec8"
      },
      "source": [
        "iris_long <-\n",
        "      iris %>%\n",
        "      gather(measure, value, -Species) %>%\n",
        "      arrange(-value)"
      ],
      "execution_count": null,
      "outputs": []
    },
    {
      "cell_type": "markdown",
      "metadata": {
        "id": "oddKMpP0-H7s"
      },
      "source": [
        "+ Style 2"
      ]
    },
    {
      "cell_type": "code",
      "metadata": {
        "id": "a-e6tg86-JXX"
      },
      "source": [
        "# RECOMMENDED\n",
        "iris_long <- iris %>%\n",
        "      gather(measure, value, -Species) %>%\n",
        "      arrange(-value)"
      ],
      "execution_count": null,
      "outputs": []
    },
    {
      "cell_type": "markdown",
      "metadata": {
        "id": "oT_EyDV--OUu"
      },
      "source": [
        "+ Style 3"
      ]
    },
    {
      "cell_type": "code",
      "metadata": {
        "id": "J01Y4Lys-QIi"
      },
      "source": [
        "iris %>%\n",
        "      gather(measure, value, -Species) %>%\n",
        "      arrange(-value) ->\n",
        "      iris_long\n"
      ],
      "execution_count": null,
      "outputs": []
    },
    {
      "cell_type": "markdown",
      "metadata": {
        "id": "dk4d94sO-YPD"
      },
      "source": [
        "## **Ggplot Operation (+)**"
      ]
    },
    {
      "cell_type": "markdown",
      "metadata": {
        "id": "23TL_4eE-wDZ"
      },
      "source": [
        "**1. Spasi**\n",
        "\n",
        "Sebelum \"+\" harus memiliki spasi dan diikuti oleh baris baru."
      ]
    },
    {
      "cell_type": "code",
      "metadata": {
        "id": "k1IUSbF4-22q",
        "colab": {
          "base_uri": "https://localhost:8080/",
          "height": 1000
        },
        "outputId": "23223fb0-1d4a-48af-db87-068cc9f6e3a6"
      },
      "source": [
        "# GOOD\n",
        "iris %>%\n",
        "        filter(Species == \"setosa\") %>%\n",
        "        ggplot(aes(x = Sepal.Width, y = Sepal.Length)) +\n",
        "        geom_point()\n",
        "\n",
        "# BAD\n",
        "iris %>%\n",
        "        filter(Species == \"setosa\") %>%\n",
        "        ggplot(aes(x = Sepal.Width, y = Sepal.Length)) \n",
        "        + geom_point() # Error\n",
        "\n",
        "# BAD\n",
        "iris %>%\n",
        "        filter(Species == \"setosa\") %>%\n",
        "        ggplot(aes(x = Sepal.Width, y = Sepal.Length)) + geom_point()\n",
        "        "
      ],
      "execution_count": null,
      "outputs": [
        {
          "output_type": "display_data",
          "data": {
            "image/png": "[encoded data removed]",
            "text/plain": [
              "plot without title"
            ]
          },
          "metadata": {
            "image/png": {
              "width": 420,
              "height": 420
            }
          }
        },
        {
          "output_type": "error",
          "ename": "ERROR",
          "evalue": "ignored",
          "traceback": [
            "Error: Cannot use `+.gg()` with a single argument. Did you accidentally put + on a new line?\nTraceback:\n",
            "1. `+.gg`(geom_point())",
            "2. abort(\"Cannot use `+.gg()` with a single argument. Did you accidentally put + on a new line?\")",
            "3. signal_abort(cnd)"
          ]
        },
        {
          "output_type": "display_data",
          "data": {
            "image/png": "[encoded data removed]",
            "text/plain": [
              "plot without title"
            ]
          },
          "metadata": {
            "image/png": {
              "width": 420,
              "height": 420
            }
          }
        }
      ]
    },
    {
      "cell_type": "markdown",
      "metadata": {
        "id": "t56ubtak_FSn"
      },
      "source": [
        "**2. Long Lines**\n",
        "\n",
        "Jika argumen dalam ggplot telalu banyak, pecah menjadi beberapa baris"
      ]
    },
    {
      "cell_type": "code",
      "metadata": {
        "id": "LFIT73Ev-HeF",
        "colab": {
          "base_uri": "https://localhost:8080/",
          "height": 857
        },
        "outputId": "50bc6911-d382-4652-b961-5546acbd1afb"
      },
      "source": [
        "# GOOD\n",
        "iris %>% \n",
        "        ggplot(aes(x = Sepal.Width, y = Sepal.Length, color = Species)) +\n",
        "        geom_point() +\n",
        "        labs(\n",
        "                x = \"Sepal width, in cm\",\n",
        "                y = \"Sepal length, in cm\",\n",
        "                title = \"Sepal length vs. width of irises\"\n",
        "        ) \n",
        "\n",
        "# BAD\n",
        "iris %>% \n",
        "\tggplot(aes(x = Sepal.Width, y = Sepal.Length, color = Species)) +\n",
        "\tgeom_point() +\n",
        "\tlabs(x = \"Sepal width, in cm\", y = \"Sepal length, in cm\", title = \"Sepal length vs. width of irises\") \n",
        "  "
      ],
      "execution_count": null,
      "outputs": [
        {
          "output_type": "display_data",
          "data": {
            "image/png": "[encoded data removed]",
            "text/plain": [
              "plot without title"
            ]
          },
          "metadata": {
            "image/png": {
              "width": 420,
              "height": 420
            }
          }
        },
        {
          "output_type": "display_data",
          "data": {
            "image/png": "[encoded data removed]",
            "text/plain": [
              "plot without title"
            ]
          },
          "metadata": {
            "image/png": {
              "width": 420,
              "height": 420
            }
          }
        }
      ]
    },
    {
      "cell_type": "markdown",
      "metadata": {
        "id": "IJ38WRID_t_P"
      },
      "source": [
        "## **R Markdown**\n",
        "\n",
        "1. Satu chunk code untuk satu output\n",
        "2. Heading "
      ]
    },
    {
      "cell_type": "code",
      "metadata": {
        "id": "RPHnU5LJ_4ZE"
      },
      "source": [
        "# Heading 1\n",
        "## Heading 2\n",
        "### Heading 3\n",
        "#### Heading 4\n",
        "##### Heading 5\n",
        "###### Heading 6"
      ],
      "execution_count": null,
      "outputs": []
    },
    {
      "cell_type": "markdown",
      "metadata": {
        "id": "Azweuexi_-Ll"
      },
      "source": [
        "3. **Bold**, *Italic*, ***Bold Italic***, ~~Strikethrough~~"
      ]
    },
    {
      "cell_type": "code",
      "metadata": {
        "id": "RClESqzFAJli"
      },
      "source": [
        "# **bold**\n",
        "# *italic*\n",
        "# ***bold italic***\n",
        "# ~~strikethrough~~"
      ],
      "execution_count": null,
      "outputs": []
    },
    {
      "cell_type": "markdown",
      "metadata": {
        "id": "WiYH5UBOAO5R"
      },
      "source": [
        "4. Escaping backticks"
      ]
    },
    {
      "cell_type": "code",
      "metadata": {
        "id": "Cn9ZRu9E3XFU"
      },
      "source": [
        "# `Escaping this line`"
      ],
      "execution_count": null,
      "outputs": []
    },
    {
      "cell_type": "markdown",
      "metadata": {
        "id": "F4o5NobEBQ0A"
      },
      "source": [
        "**Aturan Lain**\n",
        "\n",
        "Tambahan : Gunakan library rmdformats untuk memperbagus hasil knit html. [Rmdformats](https://bookdown.org/yihui/rmarkdown/rmdformats.html)"
      ]
    },
    {
      "cell_type": "markdown",
      "metadata": {
        "id": "dXayb3n5Ckws"
      },
      "source": [
        "##**TAMBAHAN**\n",
        "\n",
        "+ Hindari menggunakan attach( )\n",
        "\n",
        "+ Hindari menggunakan file_choose\n",
        "\n",
        "+ Hindari menyimpan workspace ketika akan keluar dari RStudio\n",
        "\n",
        "+ Konsisten dalam satu file"
      ]
    },
    {
      "cell_type": "code",
      "metadata": {
        "colab": {
          "base_uri": "https://localhost:8080/",
          "height": 34
        },
        "id": "0mT4a-iFSQKx",
        "outputId": "47c3d3eb-923f-43b5-98db-ac7453ab3855"
      },
      "source": [
        "# R program to illustrate attach function (not to be recommended)\n",
        "# Create example data\n",
        "new_data <- data.frame( x1 = c(1, 2, 3, 4, 5),\n",
        "                        x2 = c(6, 7, 8, 9, 0),\n",
        "                        x3 = c(1, 2, 5, 4, 5))\n",
        "\n",
        "# Try to print x1\n",
        "# Error: object 'x1' not found\n",
        "\n",
        "# error\n",
        "# attach(new_data, pos = x1)\n",
        "\n",
        "# more recommended\n",
        "new_data$x1"
      ],
      "execution_count": 13,
      "outputs": [
        {
          "output_type": "display_data",
          "data": {
            "text/plain": [
              "[1] 1 2 3 4 5"
            ],
            "text/latex": "\\begin{enumerate*}\n\\item 1\n\\item 2\n\\item 3\n\\item 4\n\\item 5\n\\end{enumerate*}\n",
            "text/markdown": "1. 1\n2. 2\n3. 3\n4. 4\n5. 5\n\n\n",
            "text/html": [
              "<style>\n",
              ".list-inline {list-style: none; margin:0; padding: 0}\n",
              ".list-inline>li {display: inline-block}\n",
              ".list-inline>li:not(:last-child)::after {content: \"\\00b7\"; padding: 0 .5ex}\n",
              "</style>\n",
              "<ol class=list-inline><li>1</li><li>2</li><li>3</li><li>4</li><li>5</li></ol>\n"
            ]
          },
          "metadata": {}
        }
      ]
    },
    {
      "cell_type": "code",
      "metadata": {
        "id": "b0di2wSfUUNT"
      },
      "source": [
        "# R program to illustrate file_choose function (not to be recommended)\n",
        "X <- read.csv(file.choose())"
      ],
      "execution_count": null,
      "outputs": []
    }
  ]
}